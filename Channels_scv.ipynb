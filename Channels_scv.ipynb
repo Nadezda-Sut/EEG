{
  "nbformat": 4,
  "nbformat_minor": 0,
  "metadata": {
    "colab": {
      "provenance": [],
      "authorship_tag": "ABX9TyP6LxQ042Wgr6zwhdrDelOS",
      "include_colab_link": true
    },
    "kernelspec": {
      "name": "python3",
      "display_name": "Python 3"
    },
    "language_info": {
      "name": "python"
    }
  },
  "cells": [
    {
      "cell_type": "markdown",
      "metadata": {
        "id": "view-in-github",
        "colab_type": "text"
      },
      "source": [
        "<a href=\"https://colab.research.google.com/github/Nadezda-Sut/EEG/blob/main/Channels_scv.ipynb\" target=\"_parent\"><img src=\"https://colab.research.google.com/assets/colab-badge.svg\" alt=\"Open In Colab\"/></a>"
      ]
    },
    {
      "cell_type": "code",
      "source": [
        "from google.colab import drive\n",
        "drive.mount('/content/gdrive')"
      ],
      "metadata": {
        "colab": {
          "base_uri": "https://localhost:8080/"
        },
        "id": "BZryXt_oam4V",
        "outputId": "7c1f053f-23d9-44a3-a916-f3346ca20a78"
      },
      "execution_count": 1,
      "outputs": [
        {
          "output_type": "stream",
          "name": "stdout",
          "text": [
            "Mounted at /content/gdrive\n"
          ]
        }
      ]
    },
    {
      "cell_type": "code",
      "source": [
        "import csv\n",
        "\n",
        "def save_to_csv(montage, file_path):\n",
        "    with open(file_path, \"w\", newline=\"\") as csvfile:\n",
        "        writer = csv.writer(csvfile)\n",
        "        writer.writerow([\"Electrode\", \"X\", \"Y\"])  # Write header\n",
        "        writer.writerows(montage)\n",
        "\n",
        "    print(\"Montage saved to Channels.csv\")\n",
        "\n",
        "electrodes = [\n",
        "    [\"AF7\", 10.5, 12.3],\n",
        "    [\"AF3\", 8.9, 13.2],\n",
        "    [\"Fp1\", 6.1, 10.8],\n",
        "    [\"Fp2\", 14.7, 10.8],\n",
        "    [\"AF4\", 17.5, 12.3],\n",
        "    [\"AF8\", 19.1, 13.2],\n",
        "    [\"F7\", 4.3, 8.2],\n",
        "    [\"F5\", 5.2, 5.1],\n",
        "    [\"F3\", 6.4, 2.7],\n",
        "    [\"F1\", 7.9, 1.5],\n",
        "    [\"F2\", 9.4, 1.5],\n",
        "    [\"F4\", 10.6, 2.7],\n",
        "    [\"F6\", 11.8, 5.1],\n",
        "    [\"F8\", 12.7, 8.2],\n",
        "    [\"FT7\", 3.2, 7.6],\n",
        "    [\"FC5\", 4.1, 4.9],\n",
        "    [\"FC3\", 5.2, 2.1],\n",
        "    [\"FC1\", 6.4, 0.8],\n",
        "    [\"FC2\", 8.6, 0.8],\n",
        "    [\"FC4\", 9.8, 2.1],\n",
        "    [\"FC6\", 10.9, 4.9],\n",
        "    [\"FT8\", 11.8, 7.6],\n",
        "    [\"T3\", 2.6, 9.5],\n",
        "    [\"C5\", 2.8, 5.5],\n",
        "    [\"C3\", 3.5, 2.2],\n",
        "    [\"C1\", 4.6, 0.4],\n",
        "    [\"C2\", 7.4, 0.4],\n",
        "    [\"C4\", 8.6, 2.2],\n",
        "    [\"C6\", 9.3, 5.5],\n",
        "    [\"T4\", 9.5, 9.5],\n",
        "    [\"TP7\", 2.5, 12.6],\n",
        "    [\"CP5\", 3.1, 8.6],\n",
        "    [\"CP3\", 3.8, 5.1],\n",
        "    [\"CP1\", 4.9, 2.9],\n",
        "    [\"CP2\", 7.1, 2.9],\n",
        "    [\"CP4\", 8.2, 5.1],\n",
        "    [\"CP6\", 8.9, 8.6],\n",
        "    [\"TP8\", 9.5, 12.6],\n",
        "    [\"T5\", 2.8, 15.7],\n",
        "    [\"P5\", 3.2, 11.9],\n",
        "    [\"P3\", 3.9, 8.6],\n",
        "    [\"P1\", 5.1, 6.3],\n",
        "    [\"P2\", 7.3, 6.3],\n",
        "    [\"P4\", 8.4, 8.6],\n",
        "    [\"P6\", 8.8, 11.9],\n",
        "    [\"T6\", 9.2, 15.7],\n",
        "    [\"Fpz\", 8.2, 12.3],\n",
        "    [\"PO7\", 5.6, 13.4],\n",
        "    [\"PO3\", 6.9, 15.2],\n",
        "    [\"O1\", 7.9, 16.5],\n",
        "    [\"O2\", 9.3, 16.5],\n",
        "    [\"PO4\", 10.4, 15.2],\n",
        "    [\"PO8\", 11.8, 13.4],\n",
        "    [\"OZ\", 9.9, 14.7],\n",
        "    [\"AFz\", 10.5, 13.2],\n",
        "    [\"FZ\", 8.9, 14.1],\n",
        "    [\"FCZ\", 8.6, 11.9],\n",
        "    [\"CZ\", 8.6, 7.5],\n",
        "    [\"CPZ\", 8.6, 4.6],\n",
        "    [\"PZ\", 8.6, 1.6],\n",
        "    [\"POZ\", 8.6, 15.6]\n",
        "]\n",
        "\n",
        "file_path = '/content/gdrive/My Drive/Colab Notebooks/Channels.csv'\n",
        "\n",
        "save_to_csv(electrodes, file_path)\n"
      ],
      "metadata": {
        "colab": {
          "base_uri": "https://localhost:8080/"
        },
        "id": "3gzVp2L0ci6T",
        "outputId": "40053a97-5e5f-4979-9798-52999030ea82"
      },
      "execution_count": 3,
      "outputs": [
        {
          "output_type": "stream",
          "name": "stdout",
          "text": [
            "Montage saved to Channels.csv\n"
          ]
        }
      ]
    }
  ]
}