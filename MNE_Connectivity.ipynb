{
  "nbformat": 4,
  "nbformat_minor": 0,
  "metadata": {
    "colab": {
      "provenance": [],
      "authorship_tag": "ABX9TyMgPfCUUIdrGIB5uiOhnuGb",
      "include_colab_link": true
    },
    "kernelspec": {
      "name": "python3",
      "display_name": "Python 3"
    },
    "language_info": {
      "name": "python"
    }
  },
  "cells": [
    {
      "cell_type": "markdown",
      "metadata": {
        "id": "view-in-github",
        "colab_type": "text"
      },
      "source": [
        "<a href=\"https://colab.research.google.com/github/Nadezda-Sut/EEG/blob/main/MNE_Connectivity.ipynb\" target=\"_parent\"><img src=\"https://colab.research.google.com/assets/colab-badge.svg\" alt=\"Open In Colab\"/></a>"
      ]
    },
    {
      "cell_type": "code",
      "execution_count": null,
      "metadata": {
        "colab": {
          "base_uri": "https://localhost:8080/"
        },
        "id": "wRq-aMp4xfws",
        "outputId": "34ad9e3c-1518-4f69-f80b-a87a5b291c66"
      },
      "outputs": [
        {
          "output_type": "stream",
          "name": "stdout",
          "text": [
            "Looking in indexes: https://pypi.org/simple, https://us-python.pkg.dev/colab-wheels/public/simple/\n",
            "Collecting mne\n",
            "  Downloading mne-1.4.0-py3-none-any.whl (7.7 MB)\n",
            "\u001b[2K     \u001b[90m━━━━━━━━━━━━━━━━━━━━━━━━━━━━━━━━━━━━━━━━\u001b[0m \u001b[32m7.7/7.7 MB\u001b[0m \u001b[31m48.1 MB/s\u001b[0m eta \u001b[36m0:00:00\u001b[0m\n",
            "\u001b[?25hRequirement already satisfied: numpy>=1.15.4 in /usr/local/lib/python3.10/dist-packages (from mne) (1.22.4)\n",
            "Requirement already satisfied: scipy>=1.6.3 in /usr/local/lib/python3.10/dist-packages (from mne) (1.10.1)\n",
            "Requirement already satisfied: matplotlib in /usr/local/lib/python3.10/dist-packages (from mne) (3.7.1)\n",
            "Requirement already satisfied: tqdm in /usr/local/lib/python3.10/dist-packages (from mne) (4.65.0)\n",
            "Requirement already satisfied: pooch>=1.5 in /usr/local/lib/python3.10/dist-packages (from mne) (1.6.0)\n",
            "Requirement already satisfied: decorator in /usr/local/lib/python3.10/dist-packages (from mne) (4.4.2)\n",
            "Requirement already satisfied: packaging in /usr/local/lib/python3.10/dist-packages (from mne) (23.1)\n",
            "Requirement already satisfied: jinja2 in /usr/local/lib/python3.10/dist-packages (from mne) (3.1.2)\n",
            "Requirement already satisfied: appdirs>=1.3.0 in /usr/local/lib/python3.10/dist-packages (from pooch>=1.5->mne) (1.4.4)\n",
            "Requirement already satisfied: requests>=2.19.0 in /usr/local/lib/python3.10/dist-packages (from pooch>=1.5->mne) (2.27.1)\n",
            "Requirement already satisfied: MarkupSafe>=2.0 in /usr/local/lib/python3.10/dist-packages (from jinja2->mne) (2.1.2)\n",
            "Requirement already satisfied: contourpy>=1.0.1 in /usr/local/lib/python3.10/dist-packages (from matplotlib->mne) (1.0.7)\n",
            "Requirement already satisfied: cycler>=0.10 in /usr/local/lib/python3.10/dist-packages (from matplotlib->mne) (0.11.0)\n",
            "Requirement already satisfied: fonttools>=4.22.0 in /usr/local/lib/python3.10/dist-packages (from matplotlib->mne) (4.39.3)\n",
            "Requirement already satisfied: kiwisolver>=1.0.1 in /usr/local/lib/python3.10/dist-packages (from matplotlib->mne) (1.4.4)\n",
            "Requirement already satisfied: pillow>=6.2.0 in /usr/local/lib/python3.10/dist-packages (from matplotlib->mne) (8.4.0)\n",
            "Requirement already satisfied: pyparsing>=2.3.1 in /usr/local/lib/python3.10/dist-packages (from matplotlib->mne) (3.0.9)\n",
            "Requirement already satisfied: python-dateutil>=2.7 in /usr/local/lib/python3.10/dist-packages (from matplotlib->mne) (2.8.2)\n",
            "Requirement already satisfied: six>=1.5 in /usr/local/lib/python3.10/dist-packages (from python-dateutil>=2.7->matplotlib->mne) (1.16.0)\n",
            "Requirement already satisfied: urllib3<1.27,>=1.21.1 in /usr/local/lib/python3.10/dist-packages (from requests>=2.19.0->pooch>=1.5->mne) (1.26.15)\n",
            "Requirement already satisfied: certifi>=2017.4.17 in /usr/local/lib/python3.10/dist-packages (from requests>=2.19.0->pooch>=1.5->mne) (2022.12.7)\n",
            "Requirement already satisfied: charset-normalizer~=2.0.0 in /usr/local/lib/python3.10/dist-packages (from requests>=2.19.0->pooch>=1.5->mne) (2.0.12)\n",
            "Requirement already satisfied: idna<4,>=2.5 in /usr/local/lib/python3.10/dist-packages (from requests>=2.19.0->pooch>=1.5->mne) (3.4)\n",
            "Installing collected packages: mne\n",
            "Successfully installed mne-1.4.0\n"
          ]
        }
      ],
      "source": [
        "!pip install mne"
      ]
    },
    {
      "cell_type": "code",
      "source": [
        "import matplotlib\n",
        "import pathlib\n",
        "import mne\n",
        "import pandas as pd\n",
        "import numpy as np \n"
      ],
      "metadata": {
        "id": "ZuWTNx7jyDtS"
      },
      "execution_count": null,
      "outputs": []
    },
    {
      "cell_type": "code",
      "source": [
        "#main_folder = pathlib.Path().cwd()\n",
        "\n",
        "#input_folder = pathlib.Path('D:/eeg_connectivity') \n",
        "#output_folder = pathlib.Path('D:/eeg_connectivity/output')\n",
        "\n",
        "\n",
        "#files = [file for file in input_folder.iterdir() if file.suffix == '.fif']\n",
        "\n",
        "#files = 'D:/eeg_connectivity/VatEvgDoICA.set'\n"
      ],
      "metadata": {
        "id": "Qb9RQxjau8Vp"
      },
      "execution_count": null,
      "outputs": []
    },
    {
      "cell_type": "code",
      "source": [
        "from google.colab import drive\n",
        "drive.mount('/content/gdrive')\n",
        "     \n",
        "\n",
        "# path to file in google drive\n",
        "\n",
        "file_path = \"/content/gdrive/My Drive/Colab Notebooks/VatEvgDoICA.set\"\n",
        "     "
      ],
      "metadata": {
        "id": "jvAAD1bLA8mx",
        "outputId": "c292d5fa-38e3-4268-be41-9538b8297d79",
        "colab": {
          "base_uri": "https://localhost:8080/"
        }
      },
      "execution_count": null,
      "outputs": [
        {
          "output_type": "stream",
          "name": "stdout",
          "text": [
            "Mounted at /content/gdrive\n"
          ]
        }
      ]
    },
    {
      "cell_type": "code",
      "source": [
        "input_file = '/content/gdrive/My Drive/Colab Notebooks/VatEvgDoICA.set'\n",
        "output_file = '/content/gdrive/My Drive/Colab Notebooks/VatEvgDoICA.fif'\n",
        "\n",
        "# Read the EEG data from the input file\n",
        "raw = mne.io.read_raw_eeglab(input_file, preload=True)\n",
        "\n",
        "# Save the EEG data to the output file in FIF format\n",
        "raw.save(output_file, overwrite=True)"
      ],
      "metadata": {
        "id": "8wjgWbxOBVwq",
        "outputId": "61a9f8d4-8e54-48cc-b7fa-9fb5b3807fcc",
        "colab": {
          "base_uri": "https://localhost:8080/"
        }
      },
      "execution_count": null,
      "outputs": [
        {
          "output_type": "stream",
          "name": "stdout",
          "text": [
            "Reading /content/gdrive/My Drive/Colab Notebooks/VatEvgDoICA.fdt\n",
            "Reading 0 ... 61924  =      0.000 ...   241.891 secs...\n",
            "Writing /content/gdrive/My Drive/Colab Notebooks/VatEvgDoICA.fif\n",
            "Closing /content/gdrive/My Drive/Colab Notebooks/VatEvgDoICA.fif\n",
            "[done]\n"
          ]
        },
        {
          "output_type": "stream",
          "name": "stderr",
          "text": [
            "<ipython-input-54-664dc7b7bada>:5: RuntimeWarning: Limited 1 annotation(s) that were expanding outside the data range.\n",
            "  raw = mne.io.read_raw_eeglab(input_file, preload=True)\n",
            "<ipython-input-54-664dc7b7bada>:5: RuntimeWarning: The data contains 'boundary' events, indicating data discontinuities. Be cautious of filtering and epoching around these events.\n",
            "  raw = mne.io.read_raw_eeglab(input_file, preload=True)\n",
            "<ipython-input-54-664dc7b7bada>:8: RuntimeWarning: This filename (/content/gdrive/My Drive/Colab Notebooks/VatEvgDoICA.fif) does not conform to MNE naming conventions. All raw files should end with raw.fif, raw_sss.fif, raw_tsss.fif, _meg.fif, _eeg.fif, _ieeg.fif, raw.fif.gz, raw_sss.fif.gz, raw_tsss.fif.gz, _meg.fif.gz, _eeg.fif.gz or _ieeg.fif.gz\n",
            "  raw.save(output_file, overwrite=True)\n"
          ]
        }
      ]
    },
    {
      "cell_type": "markdown",
      "source": [
        "# Convert .ced to .csv "
      ],
      "metadata": {
        "id": "z1UqgJd9IZA5"
      }
    },
    {
      "cell_type": "code",
      "source": [
        "import csv\n",
        "import re\n",
        "\n",
        "def convert_ced_to_csv(ced_file, csv_file):\n",
        "    # Open the .ced file for reading\n",
        "    with open(ced_file, 'r') as ced:\n",
        "        # Create a CSV writer object\n",
        "        csv_writer = csv.writer(csv_file)\n",
        "        \n",
        "        # Write the header row\n",
        "        csv_writer.writerow([\"Electrode Label\", \"X\", \"Y\", \"Z\"])\n",
        "        \n",
        "        # Read the .ced file line by line\n",
        "        for line in ced:\n",
        "            # Parse the electrode label and coordinates from each line\n",
        "            match = re.match(r'(\\w+)\\s+([\\d.-]+)\\s+([\\d.-]+)\\s+([\\d.-]+)', line)\n",
        "            if match:\n",
        "                electrode_label = match.group(1)\n",
        "                x_coord = match.group(2)\n",
        "                y_coord = match.group(3)\n",
        "                z_coord = match.group(4)\n",
        "                \n",
        "                # Write the electrode information as a row in the CSV file\n",
        "                csv_writer.writerow([electrode_label, x_coord, y_coord, z_coord])\n",
        "\n",
        "# Example usage: Convert example.ced to example.csv\n",
        "ced_file = '/content/gdrive/My Drive/Colab Notebooks/Channels.ced'\n",
        "csv_file = '/content/gdrive/My Drive/Colab Notebooks/Channels.csv'\n",
        "\n",
        "with open(csv_file, 'w', newline='') as output_csv:\n",
        "    convert_ced_to_csv(ced_file, output_csv)"
      ],
      "metadata": {
        "id": "emEh_E7jH6Sq"
      },
      "execution_count": null,
      "outputs": []
    },
    {
      "cell_type": "code",
      "source": [
        "montage = mne.channels.read_custom_montage(\"/content/gdrive/My Drive/Colab Notebooks/Channels.csv\")"
      ],
      "metadata": {
        "id": "p5Kd5BTdI8tg"
      },
      "execution_count": null,
      "outputs": []
    }
  ]
}