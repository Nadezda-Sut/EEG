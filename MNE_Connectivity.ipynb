{
  "nbformat": 4,
  "nbformat_minor": 0,
  "metadata": {
    "colab": {
      "provenance": [],
      "authorship_tag": "ABX9TyORWdd3/uBejK3SAJCtEuLA",
      "include_colab_link": true
    },
    "kernelspec": {
      "name": "python3",
      "display_name": "Python 3"
    },
    "language_info": {
      "name": "python"
    }
  },
  "cells": [
    {
      "cell_type": "markdown",
      "metadata": {
        "id": "view-in-github",
        "colab_type": "text"
      },
      "source": [
        "<a href=\"https://colab.research.google.com/github/Nadezda-Sut/EEG/blob/main/MNE_Connectivity.ipynb\" target=\"_parent\"><img src=\"https://colab.research.google.com/assets/colab-badge.svg\" alt=\"Open In Colab\"/></a>"
      ]
    },
    {
      "cell_type": "code",
      "source": [
        "!pip install mne\n",
        "\n"
      ],
      "metadata": {
        "id": "6Z_UgAjg4tvF",
        "outputId": "59fbdfea-c98c-4e0d-92e6-80ac631a94fa",
        "colab": {
          "base_uri": "https://localhost:8080/"
        }
      },
      "execution_count": 27,
      "outputs": [
        {
          "output_type": "stream",
          "name": "stdout",
          "text": [
            "Requirement already satisfied: mne in /usr/local/lib/python3.10/dist-packages (1.6.0)\n",
            "Requirement already satisfied: numpy>=1.21.2 in /usr/local/lib/python3.10/dist-packages (from mne) (1.23.5)\n",
            "Requirement already satisfied: scipy>=1.7.1 in /usr/local/lib/python3.10/dist-packages (from mne) (1.11.3)\n",
            "Requirement already satisfied: matplotlib>=3.5.0 in /usr/local/lib/python3.10/dist-packages (from mne) (3.7.1)\n",
            "Requirement already satisfied: tqdm in /usr/local/lib/python3.10/dist-packages (from mne) (4.66.1)\n",
            "Requirement already satisfied: pooch>=1.5 in /usr/local/lib/python3.10/dist-packages (from mne) (1.8.0)\n",
            "Requirement already satisfied: decorator in /usr/local/lib/python3.10/dist-packages (from mne) (4.4.2)\n",
            "Requirement already satisfied: packaging in /usr/local/lib/python3.10/dist-packages (from mne) (23.2)\n",
            "Requirement already satisfied: jinja2 in /usr/local/lib/python3.10/dist-packages (from mne) (3.1.2)\n",
            "Requirement already satisfied: lazy-loader>=0.3 in /usr/local/lib/python3.10/dist-packages (from mne) (0.3)\n",
            "Requirement already satisfied: defusedxml in /usr/local/lib/python3.10/dist-packages (from mne) (0.7.1)\n",
            "Requirement already satisfied: contourpy>=1.0.1 in /usr/local/lib/python3.10/dist-packages (from matplotlib>=3.5.0->mne) (1.2.0)\n",
            "Requirement already satisfied: cycler>=0.10 in /usr/local/lib/python3.10/dist-packages (from matplotlib>=3.5.0->mne) (0.12.1)\n",
            "Requirement already satisfied: fonttools>=4.22.0 in /usr/local/lib/python3.10/dist-packages (from matplotlib>=3.5.0->mne) (4.44.3)\n",
            "Requirement already satisfied: kiwisolver>=1.0.1 in /usr/local/lib/python3.10/dist-packages (from matplotlib>=3.5.0->mne) (1.4.5)\n",
            "Requirement already satisfied: pillow>=6.2.0 in /usr/local/lib/python3.10/dist-packages (from matplotlib>=3.5.0->mne) (9.4.0)\n",
            "Requirement already satisfied: pyparsing>=2.3.1 in /usr/local/lib/python3.10/dist-packages (from matplotlib>=3.5.0->mne) (3.1.1)\n",
            "Requirement already satisfied: python-dateutil>=2.7 in /usr/local/lib/python3.10/dist-packages (from matplotlib>=3.5.0->mne) (2.8.2)\n",
            "Requirement already satisfied: platformdirs>=2.5.0 in /usr/local/lib/python3.10/dist-packages (from pooch>=1.5->mne) (4.0.0)\n",
            "Requirement already satisfied: requests>=2.19.0 in /usr/local/lib/python3.10/dist-packages (from pooch>=1.5->mne) (2.31.0)\n",
            "Requirement already satisfied: MarkupSafe>=2.0 in /usr/local/lib/python3.10/dist-packages (from jinja2->mne) (2.1.3)\n",
            "Requirement already satisfied: six>=1.5 in /usr/local/lib/python3.10/dist-packages (from python-dateutil>=2.7->matplotlib>=3.5.0->mne) (1.16.0)\n",
            "Requirement already satisfied: charset-normalizer<4,>=2 in /usr/local/lib/python3.10/dist-packages (from requests>=2.19.0->pooch>=1.5->mne) (3.3.2)\n",
            "Requirement already satisfied: idna<4,>=2.5 in /usr/local/lib/python3.10/dist-packages (from requests>=2.19.0->pooch>=1.5->mne) (3.4)\n",
            "Requirement already satisfied: urllib3<3,>=1.21.1 in /usr/local/lib/python3.10/dist-packages (from requests>=2.19.0->pooch>=1.5->mne) (2.0.7)\n",
            "Requirement already satisfied: certifi>=2017.4.17 in /usr/local/lib/python3.10/dist-packages (from requests>=2.19.0->pooch>=1.5->mne) (2023.7.22)\n"
          ]
        }
      ]
    },
    {
      "cell_type": "code",
      "source": [
        "!pip install autoreject"
      ],
      "metadata": {
        "id": "s2NOE5cmUpVn",
        "outputId": "bf4409c0-3b30-4fea-e93d-d0fcbb150e56",
        "colab": {
          "base_uri": "https://localhost:8080/"
        }
      },
      "execution_count": 4,
      "outputs": [
        {
          "output_type": "stream",
          "name": "stdout",
          "text": [
            "Collecting autoreject\n",
            "  Downloading autoreject-0.4.3-py3-none-any.whl (29 kB)\n",
            "Requirement already satisfied: numpy>=1.20.2 in /usr/local/lib/python3.10/dist-packages (from autoreject) (1.23.5)\n",
            "Requirement already satisfied: scipy>=1.6.3 in /usr/local/lib/python3.10/dist-packages (from autoreject) (1.11.3)\n",
            "Requirement already satisfied: mne[hdf5]>=1.0 in /usr/local/lib/python3.10/dist-packages (from autoreject) (1.6.0)\n",
            "Requirement already satisfied: scikit-learn>=0.24.2 in /usr/local/lib/python3.10/dist-packages (from autoreject) (1.2.2)\n",
            "Requirement already satisfied: joblib in /usr/local/lib/python3.10/dist-packages (from autoreject) (1.3.2)\n",
            "Requirement already satisfied: matplotlib>=3.4.0 in /usr/local/lib/python3.10/dist-packages (from autoreject) (3.7.1)\n",
            "Requirement already satisfied: contourpy>=1.0.1 in /usr/local/lib/python3.10/dist-packages (from matplotlib>=3.4.0->autoreject) (1.2.0)\n",
            "Requirement already satisfied: cycler>=0.10 in /usr/local/lib/python3.10/dist-packages (from matplotlib>=3.4.0->autoreject) (0.12.1)\n",
            "Requirement already satisfied: fonttools>=4.22.0 in /usr/local/lib/python3.10/dist-packages (from matplotlib>=3.4.0->autoreject) (4.44.3)\n",
            "Requirement already satisfied: kiwisolver>=1.0.1 in /usr/local/lib/python3.10/dist-packages (from matplotlib>=3.4.0->autoreject) (1.4.5)\n",
            "Requirement already satisfied: packaging>=20.0 in /usr/local/lib/python3.10/dist-packages (from matplotlib>=3.4.0->autoreject) (23.2)\n",
            "Requirement already satisfied: pillow>=6.2.0 in /usr/local/lib/python3.10/dist-packages (from matplotlib>=3.4.0->autoreject) (9.4.0)\n",
            "Requirement already satisfied: pyparsing>=2.3.1 in /usr/local/lib/python3.10/dist-packages (from matplotlib>=3.4.0->autoreject) (3.1.1)\n",
            "Requirement already satisfied: python-dateutil>=2.7 in /usr/local/lib/python3.10/dist-packages (from matplotlib>=3.4.0->autoreject) (2.8.2)\n",
            "Requirement already satisfied: tqdm in /usr/local/lib/python3.10/dist-packages (from mne[hdf5]>=1.0->autoreject) (4.66.1)\n",
            "Requirement already satisfied: pooch>=1.5 in /usr/local/lib/python3.10/dist-packages (from mne[hdf5]>=1.0->autoreject) (1.8.0)\n",
            "Requirement already satisfied: decorator in /usr/local/lib/python3.10/dist-packages (from mne[hdf5]>=1.0->autoreject) (4.4.2)\n",
            "Requirement already satisfied: jinja2 in /usr/local/lib/python3.10/dist-packages (from mne[hdf5]>=1.0->autoreject) (3.1.2)\n",
            "Requirement already satisfied: lazy-loader>=0.3 in /usr/local/lib/python3.10/dist-packages (from mne[hdf5]>=1.0->autoreject) (0.3)\n",
            "Requirement already satisfied: defusedxml in /usr/local/lib/python3.10/dist-packages (from mne[hdf5]>=1.0->autoreject) (0.7.1)\n",
            "Collecting h5io (from mne[hdf5]>=1.0->autoreject)\n",
            "  Downloading h5io-0.1.9-py3-none-any.whl (13 kB)\n",
            "Collecting pymatreader (from mne[hdf5]>=1.0->autoreject)\n",
            "  Downloading pymatreader-0.0.32-py3-none-any.whl (9.0 kB)\n",
            "Requirement already satisfied: threadpoolctl>=2.0.0 in /usr/local/lib/python3.10/dist-packages (from scikit-learn>=0.24.2->autoreject) (3.2.0)\n",
            "Requirement already satisfied: platformdirs>=2.5.0 in /usr/local/lib/python3.10/dist-packages (from pooch>=1.5->mne[hdf5]>=1.0->autoreject) (4.0.0)\n",
            "Requirement already satisfied: requests>=2.19.0 in /usr/local/lib/python3.10/dist-packages (from pooch>=1.5->mne[hdf5]>=1.0->autoreject) (2.31.0)\n",
            "Requirement already satisfied: six>=1.5 in /usr/local/lib/python3.10/dist-packages (from python-dateutil>=2.7->matplotlib>=3.4.0->autoreject) (1.16.0)\n",
            "Requirement already satisfied: h5py in /usr/local/lib/python3.10/dist-packages (from h5io->mne[hdf5]>=1.0->autoreject) (3.9.0)\n",
            "Requirement already satisfied: MarkupSafe>=2.0 in /usr/local/lib/python3.10/dist-packages (from jinja2->mne[hdf5]>=1.0->autoreject) (2.1.3)\n",
            "Collecting xmltodict (from pymatreader->mne[hdf5]>=1.0->autoreject)\n",
            "  Downloading xmltodict-0.13.0-py2.py3-none-any.whl (10.0 kB)\n",
            "Requirement already satisfied: charset-normalizer<4,>=2 in /usr/local/lib/python3.10/dist-packages (from requests>=2.19.0->pooch>=1.5->mne[hdf5]>=1.0->autoreject) (3.3.2)\n",
            "Requirement already satisfied: idna<4,>=2.5 in /usr/local/lib/python3.10/dist-packages (from requests>=2.19.0->pooch>=1.5->mne[hdf5]>=1.0->autoreject) (3.4)\n",
            "Requirement already satisfied: urllib3<3,>=1.21.1 in /usr/local/lib/python3.10/dist-packages (from requests>=2.19.0->pooch>=1.5->mne[hdf5]>=1.0->autoreject) (2.0.7)\n",
            "Requirement already satisfied: certifi>=2017.4.17 in /usr/local/lib/python3.10/dist-packages (from requests>=2.19.0->pooch>=1.5->mne[hdf5]>=1.0->autoreject) (2023.7.22)\n",
            "Installing collected packages: xmltodict, pymatreader, h5io, autoreject\n",
            "Successfully installed autoreject-0.4.3 h5io-0.1.9 pymatreader-0.0.32 xmltodict-0.13.0\n"
          ]
        }
      ]
    },
    {
      "cell_type": "code",
      "source": [
        "\n",
        "!pip install -U mne-connectivity"
      ],
      "metadata": {
        "id": "C2K1Mv4NpGNW",
        "outputId": "300248a3-d330-4bba-ef67-9437712e020d",
        "colab": {
          "base_uri": "https://localhost:8080/"
        }
      },
      "execution_count": 28,
      "outputs": [
        {
          "output_type": "stream",
          "name": "stdout",
          "text": [
            "Requirement already satisfied: mne-connectivity in /usr/local/lib/python3.10/dist-packages (0.5.0)\n",
            "Requirement already satisfied: numpy in /usr/local/lib/python3.10/dist-packages (from mne-connectivity) (1.23.5)\n",
            "Requirement already satisfied: scipy in /usr/local/lib/python3.10/dist-packages (from mne-connectivity) (1.11.3)\n",
            "Requirement already satisfied: mne in /usr/local/lib/python3.10/dist-packages (from mne-connectivity) (1.6.0)\n",
            "Requirement already satisfied: xarray in /usr/local/lib/python3.10/dist-packages (from mne-connectivity) (2023.7.0)\n",
            "Requirement already satisfied: netCDF4 in /usr/local/lib/python3.10/dist-packages (from mne-connectivity) (1.6.5)\n",
            "Requirement already satisfied: pandas in /usr/local/lib/python3.10/dist-packages (from mne-connectivity) (1.5.3)\n",
            "Requirement already satisfied: tqdm in /usr/local/lib/python3.10/dist-packages (from mne-connectivity) (4.66.1)\n",
            "Requirement already satisfied: matplotlib>=3.5.0 in /usr/local/lib/python3.10/dist-packages (from mne->mne-connectivity) (3.7.1)\n",
            "Requirement already satisfied: pooch>=1.5 in /usr/local/lib/python3.10/dist-packages (from mne->mne-connectivity) (1.8.0)\n",
            "Requirement already satisfied: decorator in /usr/local/lib/python3.10/dist-packages (from mne->mne-connectivity) (4.4.2)\n",
            "Requirement already satisfied: packaging in /usr/local/lib/python3.10/dist-packages (from mne->mne-connectivity) (23.2)\n",
            "Requirement already satisfied: jinja2 in /usr/local/lib/python3.10/dist-packages (from mne->mne-connectivity) (3.1.2)\n",
            "Requirement already satisfied: lazy-loader>=0.3 in /usr/local/lib/python3.10/dist-packages (from mne->mne-connectivity) (0.3)\n",
            "Requirement already satisfied: defusedxml in /usr/local/lib/python3.10/dist-packages (from mne->mne-connectivity) (0.7.1)\n",
            "Requirement already satisfied: cftime in /usr/local/lib/python3.10/dist-packages (from netCDF4->mne-connectivity) (1.6.3)\n",
            "Requirement already satisfied: certifi in /usr/local/lib/python3.10/dist-packages (from netCDF4->mne-connectivity) (2023.7.22)\n",
            "Requirement already satisfied: python-dateutil>=2.8.1 in /usr/local/lib/python3.10/dist-packages (from pandas->mne-connectivity) (2.8.2)\n",
            "Requirement already satisfied: pytz>=2020.1 in /usr/local/lib/python3.10/dist-packages (from pandas->mne-connectivity) (2023.3.post1)\n",
            "Requirement already satisfied: contourpy>=1.0.1 in /usr/local/lib/python3.10/dist-packages (from matplotlib>=3.5.0->mne->mne-connectivity) (1.2.0)\n",
            "Requirement already satisfied: cycler>=0.10 in /usr/local/lib/python3.10/dist-packages (from matplotlib>=3.5.0->mne->mne-connectivity) (0.12.1)\n",
            "Requirement already satisfied: fonttools>=4.22.0 in /usr/local/lib/python3.10/dist-packages (from matplotlib>=3.5.0->mne->mne-connectivity) (4.44.3)\n",
            "Requirement already satisfied: kiwisolver>=1.0.1 in /usr/local/lib/python3.10/dist-packages (from matplotlib>=3.5.0->mne->mne-connectivity) (1.4.5)\n",
            "Requirement already satisfied: pillow>=6.2.0 in /usr/local/lib/python3.10/dist-packages (from matplotlib>=3.5.0->mne->mne-connectivity) (9.4.0)\n",
            "Requirement already satisfied: pyparsing>=2.3.1 in /usr/local/lib/python3.10/dist-packages (from matplotlib>=3.5.0->mne->mne-connectivity) (3.1.1)\n",
            "Requirement already satisfied: platformdirs>=2.5.0 in /usr/local/lib/python3.10/dist-packages (from pooch>=1.5->mne->mne-connectivity) (4.0.0)\n",
            "Requirement already satisfied: requests>=2.19.0 in /usr/local/lib/python3.10/dist-packages (from pooch>=1.5->mne->mne-connectivity) (2.31.0)\n",
            "Requirement already satisfied: six>=1.5 in /usr/local/lib/python3.10/dist-packages (from python-dateutil>=2.8.1->pandas->mne-connectivity) (1.16.0)\n",
            "Requirement already satisfied: MarkupSafe>=2.0 in /usr/local/lib/python3.10/dist-packages (from jinja2->mne->mne-connectivity) (2.1.3)\n",
            "Requirement already satisfied: charset-normalizer<4,>=2 in /usr/local/lib/python3.10/dist-packages (from requests>=2.19.0->pooch>=1.5->mne->mne-connectivity) (3.3.2)\n",
            "Requirement already satisfied: idna<4,>=2.5 in /usr/local/lib/python3.10/dist-packages (from requests>=2.19.0->pooch>=1.5->mne->mne-connectivity) (3.4)\n",
            "Requirement already satisfied: urllib3<3,>=1.21.1 in /usr/local/lib/python3.10/dist-packages (from requests>=2.19.0->pooch>=1.5->mne->mne-connectivity) (2.0.7)\n"
          ]
        }
      ]
    },
    {
      "cell_type": "code",
      "source": [
        "import matplotlib\n",
        "import pathlib\n",
        "import mne\n",
        "import pandas as pd\n",
        "import numpy as np\n",
        "from autoreject  import AutoReject\n",
        "ar = AutoReject()\n",
        "from mne_connectivity import spectral_connectivity_epochs\n",
        "\n"
      ],
      "metadata": {
        "id": "ZuWTNx7jyDtS"
      },
      "execution_count": 29,
      "outputs": []
    },
    {
      "cell_type": "code",
      "source": [
        "#main_folder = pathlib.Path().cwd()\n",
        "\n",
        "#input_folder = pathlib.Path('D:/eeg_connectivity')\n",
        "#output_folder = pathlib.Path('D:/eeg_connectivity/output')\n",
        "\n",
        "\n",
        "\n",
        "#files = [file for file in input_folder.iterdir() if file.suffix == '.fif']\n",
        "\n",
        "#files = 'D:/eeg_connectivity/VatEvgDoICA.set'\n"
      ],
      "metadata": {
        "id": "Qb9RQxjau8Vp"
      },
      "execution_count": null,
      "outputs": []
    },
    {
      "cell_type": "code",
      "source": [
        "from google.colab import drive\n",
        "drive.mount('/content/gdrive')\n",
        "\n",
        "\n",
        "# path to file in google drive\n",
        "\n",
        "file_path = \"/content/gdrive/My Drive/Colab Notebooks/VatEvgDoICA.set\"\n",
        ""
      ],
      "metadata": {
        "id": "jvAAD1bLA8mx",
        "outputId": "aefa2bab-927e-495f-9c55-96b9e7d398bd",
        "colab": {
          "base_uri": "https://localhost:8080/"
        }
      },
      "execution_count": 30,
      "outputs": [
        {
          "output_type": "stream",
          "name": "stdout",
          "text": [
            "Drive already mounted at /content/gdrive; to attempt to forcibly remount, call drive.mount(\"/content/gdrive\", force_remount=True).\n"
          ]
        }
      ]
    },
    {
      "cell_type": "code",
      "source": [
        "input_file = '/content/gdrive/My Drive/Colab Notebooks/VatEvgDoICA.set'\n",
        "output_file = '/content/gdrive/My Drive/Colab Notebooks/VatEvgDoICA.fif'\n",
        "\n",
        "# Read the EEG data from the input file\n",
        "raw = mne.io.read_raw_eeglab(input_file, preload=True)\n",
        "\n",
        "# Save the EEG data to the output file in FIF format\n",
        "raw.save(output_file, overwrite=True)"
      ],
      "metadata": {
        "id": "8wjgWbxOBVwq",
        "outputId": "3bb2d51a-494e-4123-86cc-9863512469cc",
        "colab": {
          "base_uri": "https://localhost:8080/"
        }
      },
      "execution_count": 31,
      "outputs": [
        {
          "output_type": "stream",
          "name": "stdout",
          "text": [
            "Reading /content/gdrive/My Drive/Colab Notebooks/VatEvgDoICA.fdt\n",
            "Reading 0 ... 61924  =      0.000 ...   241.891 secs...\n",
            "Overwriting existing file.\n",
            "Writing /content/gdrive/My Drive/Colab Notebooks/VatEvgDoICA.fif\n"
          ]
        },
        {
          "output_type": "stream",
          "name": "stderr",
          "text": [
            "<ipython-input-31-664dc7b7bada>:5: RuntimeWarning: Limited 1 annotation(s) that were expanding outside the data range.\n",
            "  raw = mne.io.read_raw_eeglab(input_file, preload=True)\n",
            "<ipython-input-31-664dc7b7bada>:5: RuntimeWarning: The data contains 'boundary' events, indicating data discontinuities. Be cautious of filtering and epoching around these events.\n",
            "  raw = mne.io.read_raw_eeglab(input_file, preload=True)\n",
            "<ipython-input-31-664dc7b7bada>:8: RuntimeWarning: This filename (/content/gdrive/My Drive/Colab Notebooks/VatEvgDoICA.fif) does not conform to MNE naming conventions. All raw files should end with raw.fif, raw_sss.fif, raw_tsss.fif, _meg.fif, _eeg.fif, _ieeg.fif, raw.fif.gz, raw_sss.fif.gz, raw_tsss.fif.gz, _meg.fif.gz, _eeg.fif.gz or _ieeg.fif.gz\n",
            "  raw.save(output_file, overwrite=True)\n"
          ]
        },
        {
          "output_type": "stream",
          "name": "stdout",
          "text": [
            "Closing /content/gdrive/My Drive/Colab Notebooks/VatEvgDoICA.fif\n",
            "[done]\n"
          ]
        }
      ]
    },
    {
      "cell_type": "code",
      "source": [
        "file = '/content/gdrive/My Drive/Colab Notebooks/VatEvgDoICA.fif'"
      ],
      "metadata": {
        "id": "ZcbpHY82Tfdx"
      },
      "execution_count": 33,
      "outputs": []
    },
    {
      "cell_type": "markdown",
      "source": [
        "# Convert .ced to .csv"
      ],
      "metadata": {
        "id": "z1UqgJd9IZA5"
      }
    },
    {
      "cell_type": "code",
      "source": [
        "import csv\n",
        "import re\n",
        "\n",
        "def convert_ced_to_csv(ced_file, csv_file):\n",
        "    # Open the .ced file for reading\n",
        "    with open(ced_file, 'r') as ced:\n",
        "        # Create a CSV writer object\n",
        "        csv_writer = csv.writer(csv_file)\n",
        "\n",
        "        # Write the header row\n",
        "        csv_writer.writerow([\"Electrode Label\", \"X\", \"Y\", \"Z\"])\n",
        "\n",
        "        # Read the .ced file line by line\n",
        "        for line in ced:\n",
        "            # Parse the electrode label and coordinates from each line\n",
        "            match = re.match(r'(\\w+)\\s+([\\d.-]+)\\s+([\\d.-]+)\\s+([\\d.-]+)', line)\n",
        "            if match:\n",
        "                electrode_label = match.group(1)\n",
        "                x_coord = match.group(2)\n",
        "                y_coord = match.group(3)\n",
        "                z_coord = match.group(4)\n",
        "\n",
        "                # Write the electrode information as a row in the CSV file\n",
        "                csv_writer.writerow([electrode_label, x_coord, y_coord, z_coord])\n",
        "\n",
        "# Example usage: Convert example.ced to example.csv\n",
        "ced_file = '/content/gdrive/My Drive/Colab Notebooks/Channels.ced'\n",
        "csv_file = '/content/gdrive/My Drive/Colab Notebooks/Channels.csv'\n",
        "\n",
        "with open(csv_file, 'w', newline='') as output_csv:\n",
        "    convert_ced_to_csv(ced_file, output_csv)"
      ],
      "metadata": {
        "id": "emEh_E7jH6Sq"
      },
      "execution_count": 34,
      "outputs": []
    },
    {
      "cell_type": "code",
      "source": [
        "montage = mne.channels.read_custom_montage(\"/content/gdrive/My Drive/Colab Notebooks/Channels.csv\")"
      ],
      "metadata": {
        "id": "p5Kd5BTdI8tg"
      },
      "execution_count": 35,
      "outputs": []
    },
    {
      "cell_type": "code",
      "source": [
        "epochs_duration = 3.\n",
        "epochs_overlap = 0.5\n",
        "\n",
        "con_methods = ['wpli']\n",
        "#, 'imcoh', 'ciplv', 'ppc', 'coh'\n",
        "con_freqs = ['4-30','4-8','8-13','13-20', '20-30', '8-10', '10-13']"
      ],
      "metadata": {
        "id": "D6No602QHm_P"
      },
      "execution_count": 36,
      "outputs": []
    },
    {
      "cell_type": "code",
      "source": [
        "freqs_min = [int(x.split('-')[0]) for x in con_freqs]\n",
        "freqs_max = [int(x.split('-')[1]) for x in con_freqs]\n",
        "sen_or_sour = 'sensors'"
      ],
      "metadata": {
        "id": "jnvBpWntGRG4"
      },
      "execution_count": 37,
      "outputs": []
    },
    {
      "cell_type": "code",
      "source": [
        "def epoching(raw, duration, overlap):\n",
        "  tmin = 0\n",
        "  tmax = duration\n",
        "  duration = duration - overlap\n",
        "  events=mne.make_fixed_length_events(raw, id=1,duration=duration)\n",
        "  picks = mne.pick_types( raw.info , meg=False, eeg=True, eog=False)\n",
        "  epochs = mne.Epochs(raw, events=events, tmin=tmin, baseline = (0, 0),\n",
        "                      tmax=tmax, picks=picks, reject_by_annotation=True)\n",
        "  epochs.drop_bad()\n",
        "  return epochs\n"
      ],
      "metadata": {
        "id": "BYfzfKeULcGh"
      },
      "execution_count": 38,
      "outputs": []
    },
    {
      "cell_type": "code",
      "source": [
        "raw = mne.io.read_raw_fif(file, preload=True)"
      ],
      "metadata": {
        "id": "osvBqMVRRQGk",
        "outputId": "4060cc56-482a-4ac7-837d-cf1210545321",
        "colab": {
          "base_uri": "https://localhost:8080/"
        }
      },
      "execution_count": 39,
      "outputs": [
        {
          "output_type": "stream",
          "name": "stdout",
          "text": [
            "Opening raw data file /content/gdrive/My Drive/Colab Notebooks/VatEvgDoICA.fif...\n",
            "    Range : 0 ... 61924 =      0.000 ...   241.891 secs\n",
            "Ready.\n",
            "Reading 0 ... 61924  =      0.000 ...   241.891 secs...\n"
          ]
        },
        {
          "output_type": "stream",
          "name": "stderr",
          "text": [
            "<ipython-input-39-8f81574964f6>:1: RuntimeWarning: This filename (/content/gdrive/My Drive/Colab Notebooks/VatEvgDoICA.fif) does not conform to MNE naming conventions. All raw files should end with raw.fif, raw_sss.fif, raw_tsss.fif, _meg.fif, _eeg.fif, _ieeg.fif, raw.fif.gz, raw_sss.fif.gz, raw_tsss.fif.gz, _meg.fif.gz, _eeg.fif.gz or _ieeg.fif.gz\n",
            "  raw = mne.io.read_raw_fif(file, preload=True)\n"
          ]
        }
      ]
    },
    {
      "cell_type": "code",
      "source": [
        "epochs = epoching(raw,4.,0.5)\n"
      ],
      "metadata": {
        "id": "Ef6Go38cVSCM",
        "outputId": "94b1a99f-2283-408e-89cc-658f1850f17a",
        "colab": {
          "base_uri": "https://localhost:8080/"
        }
      },
      "execution_count": 40,
      "outputs": [
        {
          "output_type": "stream",
          "name": "stdout",
          "text": [
            "Not setting metadata\n",
            "69 matching events found\n",
            "Applying baseline correction (mode: mean)\n",
            "0 projection items activated\n",
            "Using data from preloaded Raw for 69 events and 1025 original time points ...\n",
            "1 bad epochs dropped\n"
          ]
        }
      ]
    },
    {
      "cell_type": "code",
      "source": [
        "output_folder = pathlib.Path('/content/gdrive/My Drive/Colab Notebooks')"
      ],
      "metadata": {
        "id": "ncKIpr8qdflU"
      },
      "execution_count": 57,
      "outputs": []
    },
    {
      "cell_type": "code",
      "source": [
        "person = 'VatEvgDo_matrix'\n",
        "freqs = raw.info['sfreq']"
      ],
      "metadata": {
        "id": "lS9xffmdz3gr"
      },
      "execution_count": 58,
      "outputs": []
    },
    {
      "cell_type": "code",
      "source": [
        "def calculate_conn(data, con_methods, sfreq, freqs_min, freqs_max, node_names, person, output_folder):\n",
        "\n",
        "    for con_method in con_methods:\n",
        "        con = spectral_connectivity_epochs(data, method = con_methods,\n",
        "                                                                                       mode = 'multitaper',\n",
        "                                                                                       sfreq=sfreq, fmin=freqs_min,\n",
        "                                                                                       fmax = freqs_max, faverage = True,\n",
        "                                                                                       mt_adaptive = True, n_jobs = -1)\n",
        "        con = con.get_data(output='dense')\n",
        "\n",
        "    for shp in range(0, con.shape[2]):\n",
        "        output_filename = f'{output_folder}/{person}_{sen_or_sour}_{con_method}.csv'\n",
        "        savefile = pd.DataFrame(np.array(con[:,:,shp]))\n",
        "        savefile.columns = savefile.index = node_names\n",
        "\n",
        "        savefile.to_csv(output_filename)\n",
        "\n"
      ],
      "metadata": {
        "id": "7cKTQrf3yoMZ"
      },
      "execution_count": 59,
      "outputs": []
    },
    {
      "cell_type": "code",
      "source": [
        "calculate_conn(epochs, con_methods, epochs.info['sfreq'], freqs_min, freqs_max, epochs.info['ch_names'], person, output_folder)"
      ],
      "metadata": {
        "id": "h6UzwOo1KHN8",
        "colab": {
          "base_uri": "https://localhost:8080/"
        },
        "outputId": "dded9d77-01c9-4eea-fd16-758e0aa135a2"
      },
      "execution_count": 60,
      "outputs": [
        {
          "output_type": "stream",
          "name": "stdout",
          "text": [
            "Replacing existing metadata with 3 columns\n",
            "Connectivity computation...\n",
            "only using indices for lower-triangular matrix\n",
            "    computing connectivity for 1596 connections\n",
            "    using t=0.000s..4.000s for estimation (1025 points)\n",
            "    computing connectivity for the bands:\n",
            "     band 1: 4.2Hz..30.0Hz (104 points)\n",
            "     band 2: 4.2Hz..8.0Hz (16 points)\n",
            "     band 3: 8.2Hz..13.0Hz (20 points)\n",
            "     band 4: 13.2Hz..20.0Hz (28 points)\n",
            "     band 5: 20.2Hz..30.0Hz (40 points)\n",
            "     band 6: 8.2Hz..10.0Hz (8 points)\n",
            "     band 7: 10.2Hz..13.0Hz (12 points)\n",
            "    connectivity scores will be averaged for each band\n",
            "    Using multitaper spectrum estimation with 7 DPSS windows\n",
            "    the following metrics will be computed: WPLI\n",
            "    computing connectivity for epochs 1..1\n"
          ]
        },
        {
          "output_type": "stream",
          "name": "stderr",
          "text": [
            "[Parallel(n_jobs=-1)]: Using backend LokyBackend with 2 concurrent workers.\n"
          ]
        },
        {
          "output_type": "stream",
          "name": "stdout",
          "text": [
            "    computing connectivity for epochs 2..2\n"
          ]
        },
        {
          "output_type": "stream",
          "name": "stderr",
          "text": [
            "[Parallel(n_jobs=-1)]: Using backend LokyBackend with 2 concurrent workers.\n"
          ]
        },
        {
          "output_type": "stream",
          "name": "stdout",
          "text": [
            "    computing connectivity for epochs 3..3\n",
            "    computing connectivity for epochs 4..4\n"
          ]
        },
        {
          "output_type": "stream",
          "name": "stderr",
          "text": [
            "[Parallel(n_jobs=-1)]: Using backend LokyBackend with 2 concurrent workers.\n",
            "[Parallel(n_jobs=-1)]: Using backend LokyBackend with 2 concurrent workers.\n"
          ]
        },
        {
          "output_type": "stream",
          "name": "stdout",
          "text": [
            "    computing connectivity for epochs 5..5\n",
            "    computing connectivity for epochs 6..6\n"
          ]
        },
        {
          "output_type": "stream",
          "name": "stderr",
          "text": [
            "[Parallel(n_jobs=-1)]: Using backend LokyBackend with 2 concurrent workers.\n",
            "[Parallel(n_jobs=-1)]: Using backend LokyBackend with 2 concurrent workers.\n"
          ]
        },
        {
          "output_type": "stream",
          "name": "stdout",
          "text": [
            "    computing connectivity for epochs 7..7\n",
            "    computing connectivity for epochs 8..8\n"
          ]
        },
        {
          "output_type": "stream",
          "name": "stderr",
          "text": [
            "[Parallel(n_jobs=-1)]: Using backend LokyBackend with 2 concurrent workers.\n",
            "[Parallel(n_jobs=-1)]: Using backend LokyBackend with 2 concurrent workers.\n"
          ]
        },
        {
          "output_type": "stream",
          "name": "stdout",
          "text": [
            "    computing connectivity for epochs 9..9\n",
            "    computing connectivity for epochs 10..10\n"
          ]
        },
        {
          "output_type": "stream",
          "name": "stderr",
          "text": [
            "[Parallel(n_jobs=-1)]: Using backend LokyBackend with 2 concurrent workers.\n",
            "[Parallel(n_jobs=-1)]: Using backend LokyBackend with 2 concurrent workers.\n"
          ]
        },
        {
          "output_type": "stream",
          "name": "stdout",
          "text": [
            "    computing connectivity for epochs 11..11\n",
            "    computing connectivity for epochs 12..12\n"
          ]
        },
        {
          "output_type": "stream",
          "name": "stderr",
          "text": [
            "[Parallel(n_jobs=-1)]: Using backend LokyBackend with 2 concurrent workers.\n",
            "[Parallel(n_jobs=-1)]: Using backend LokyBackend with 2 concurrent workers.\n"
          ]
        },
        {
          "output_type": "stream",
          "name": "stdout",
          "text": [
            "    computing connectivity for epochs 13..13\n",
            "    computing connectivity for epochs 14..14\n"
          ]
        },
        {
          "output_type": "stream",
          "name": "stderr",
          "text": [
            "[Parallel(n_jobs=-1)]: Using backend LokyBackend with 2 concurrent workers.\n",
            "[Parallel(n_jobs=-1)]: Using backend LokyBackend with 2 concurrent workers.\n"
          ]
        },
        {
          "output_type": "stream",
          "name": "stdout",
          "text": [
            "    computing connectivity for epochs 15..15\n",
            "    computing connectivity for epochs 16..16\n"
          ]
        },
        {
          "output_type": "stream",
          "name": "stderr",
          "text": [
            "[Parallel(n_jobs=-1)]: Using backend LokyBackend with 2 concurrent workers.\n",
            "[Parallel(n_jobs=-1)]: Using backend LokyBackend with 2 concurrent workers.\n"
          ]
        },
        {
          "output_type": "stream",
          "name": "stdout",
          "text": [
            "    computing connectivity for epochs 17..17\n",
            "    computing connectivity for epochs 18..18\n"
          ]
        },
        {
          "output_type": "stream",
          "name": "stderr",
          "text": [
            "[Parallel(n_jobs=-1)]: Using backend LokyBackend with 2 concurrent workers.\n",
            "[Parallel(n_jobs=-1)]: Using backend LokyBackend with 2 concurrent workers.\n"
          ]
        },
        {
          "output_type": "stream",
          "name": "stdout",
          "text": [
            "    computing connectivity for epochs 19..19\n",
            "    computing connectivity for epochs 20..20\n"
          ]
        },
        {
          "output_type": "stream",
          "name": "stderr",
          "text": [
            "[Parallel(n_jobs=-1)]: Using backend LokyBackend with 2 concurrent workers.\n",
            "[Parallel(n_jobs=-1)]: Using backend LokyBackend with 2 concurrent workers.\n"
          ]
        },
        {
          "output_type": "stream",
          "name": "stdout",
          "text": [
            "    computing connectivity for epochs 21..21\n",
            "    computing connectivity for epochs 22..22\n"
          ]
        },
        {
          "output_type": "stream",
          "name": "stderr",
          "text": [
            "[Parallel(n_jobs=-1)]: Using backend LokyBackend with 2 concurrent workers.\n",
            "[Parallel(n_jobs=-1)]: Using backend LokyBackend with 2 concurrent workers.\n"
          ]
        },
        {
          "output_type": "stream",
          "name": "stdout",
          "text": [
            "    computing connectivity for epochs 23..23\n",
            "    computing connectivity for epochs 24..24\n"
          ]
        },
        {
          "output_type": "stream",
          "name": "stderr",
          "text": [
            "[Parallel(n_jobs=-1)]: Using backend LokyBackend with 2 concurrent workers.\n",
            "[Parallel(n_jobs=-1)]: Using backend LokyBackend with 2 concurrent workers.\n"
          ]
        },
        {
          "output_type": "stream",
          "name": "stdout",
          "text": [
            "    computing connectivity for epochs 25..25\n",
            "    computing connectivity for epochs 26..26\n"
          ]
        },
        {
          "output_type": "stream",
          "name": "stderr",
          "text": [
            "[Parallel(n_jobs=-1)]: Using backend LokyBackend with 2 concurrent workers.\n",
            "[Parallel(n_jobs=-1)]: Using backend LokyBackend with 2 concurrent workers.\n"
          ]
        },
        {
          "output_type": "stream",
          "name": "stdout",
          "text": [
            "    computing connectivity for epochs 27..27\n",
            "    computing connectivity for epochs 28..28\n"
          ]
        },
        {
          "output_type": "stream",
          "name": "stderr",
          "text": [
            "[Parallel(n_jobs=-1)]: Using backend LokyBackend with 2 concurrent workers.\n",
            "[Parallel(n_jobs=-1)]: Using backend LokyBackend with 2 concurrent workers.\n"
          ]
        },
        {
          "output_type": "stream",
          "name": "stdout",
          "text": [
            "    computing connectivity for epochs 29..29\n",
            "    computing connectivity for epochs 30..30\n"
          ]
        },
        {
          "output_type": "stream",
          "name": "stderr",
          "text": [
            "[Parallel(n_jobs=-1)]: Using backend LokyBackend with 2 concurrent workers.\n",
            "[Parallel(n_jobs=-1)]: Using backend LokyBackend with 2 concurrent workers.\n"
          ]
        },
        {
          "output_type": "stream",
          "name": "stdout",
          "text": [
            "    computing connectivity for epochs 31..31\n",
            "    computing connectivity for epochs 32..32\n"
          ]
        },
        {
          "output_type": "stream",
          "name": "stderr",
          "text": [
            "[Parallel(n_jobs=-1)]: Using backend LokyBackend with 2 concurrent workers.\n",
            "[Parallel(n_jobs=-1)]: Using backend LokyBackend with 2 concurrent workers.\n"
          ]
        },
        {
          "output_type": "stream",
          "name": "stdout",
          "text": [
            "    computing connectivity for epochs 33..33\n",
            "    computing connectivity for epochs 34..34\n"
          ]
        },
        {
          "output_type": "stream",
          "name": "stderr",
          "text": [
            "[Parallel(n_jobs=-1)]: Using backend LokyBackend with 2 concurrent workers.\n",
            "[Parallel(n_jobs=-1)]: Using backend LokyBackend with 2 concurrent workers.\n"
          ]
        },
        {
          "output_type": "stream",
          "name": "stdout",
          "text": [
            "    computing connectivity for epochs 35..35\n",
            "    computing connectivity for epochs 36..36\n"
          ]
        },
        {
          "output_type": "stream",
          "name": "stderr",
          "text": [
            "[Parallel(n_jobs=-1)]: Using backend LokyBackend with 2 concurrent workers.\n",
            "[Parallel(n_jobs=-1)]: Using backend LokyBackend with 2 concurrent workers.\n"
          ]
        },
        {
          "output_type": "stream",
          "name": "stdout",
          "text": [
            "    computing connectivity for epochs 37..37\n",
            "    computing connectivity for epochs 38..38\n"
          ]
        },
        {
          "output_type": "stream",
          "name": "stderr",
          "text": [
            "[Parallel(n_jobs=-1)]: Using backend LokyBackend with 2 concurrent workers.\n",
            "[Parallel(n_jobs=-1)]: Using backend LokyBackend with 2 concurrent workers.\n"
          ]
        },
        {
          "output_type": "stream",
          "name": "stdout",
          "text": [
            "    computing connectivity for epochs 39..39\n",
            "    computing connectivity for epochs 40..40\n"
          ]
        },
        {
          "output_type": "stream",
          "name": "stderr",
          "text": [
            "[Parallel(n_jobs=-1)]: Using backend LokyBackend with 2 concurrent workers.\n",
            "[Parallel(n_jobs=-1)]: Using backend LokyBackend with 2 concurrent workers.\n"
          ]
        },
        {
          "output_type": "stream",
          "name": "stdout",
          "text": [
            "    computing connectivity for epochs 41..41\n",
            "    computing connectivity for epochs 42..42\n"
          ]
        },
        {
          "output_type": "stream",
          "name": "stderr",
          "text": [
            "[Parallel(n_jobs=-1)]: Using backend LokyBackend with 2 concurrent workers.\n",
            "[Parallel(n_jobs=-1)]: Using backend LokyBackend with 2 concurrent workers.\n"
          ]
        },
        {
          "output_type": "stream",
          "name": "stdout",
          "text": [
            "    computing connectivity for epochs 43..43\n",
            "    computing connectivity for epochs 44..44\n"
          ]
        },
        {
          "output_type": "stream",
          "name": "stderr",
          "text": [
            "[Parallel(n_jobs=-1)]: Using backend LokyBackend with 2 concurrent workers.\n",
            "[Parallel(n_jobs=-1)]: Using backend LokyBackend with 2 concurrent workers.\n"
          ]
        },
        {
          "output_type": "stream",
          "name": "stdout",
          "text": [
            "    computing connectivity for epochs 45..45\n",
            "    computing connectivity for epochs 46..46\n"
          ]
        },
        {
          "output_type": "stream",
          "name": "stderr",
          "text": [
            "[Parallel(n_jobs=-1)]: Using backend LokyBackend with 2 concurrent workers.\n",
            "[Parallel(n_jobs=-1)]: Using backend LokyBackend with 2 concurrent workers.\n"
          ]
        },
        {
          "output_type": "stream",
          "name": "stdout",
          "text": [
            "    computing connectivity for epochs 47..47\n",
            "    computing connectivity for epochs 48..48\n"
          ]
        },
        {
          "output_type": "stream",
          "name": "stderr",
          "text": [
            "[Parallel(n_jobs=-1)]: Using backend LokyBackend with 2 concurrent workers.\n",
            "[Parallel(n_jobs=-1)]: Using backend LokyBackend with 2 concurrent workers.\n"
          ]
        },
        {
          "output_type": "stream",
          "name": "stdout",
          "text": [
            "    computing connectivity for epochs 49..49\n",
            "    computing connectivity for epochs 50..50\n"
          ]
        },
        {
          "output_type": "stream",
          "name": "stderr",
          "text": [
            "[Parallel(n_jobs=-1)]: Using backend LokyBackend with 2 concurrent workers.\n",
            "[Parallel(n_jobs=-1)]: Using backend LokyBackend with 2 concurrent workers.\n"
          ]
        },
        {
          "output_type": "stream",
          "name": "stdout",
          "text": [
            "    computing connectivity for epochs 51..51\n",
            "    computing connectivity for epochs 52..52\n"
          ]
        },
        {
          "output_type": "stream",
          "name": "stderr",
          "text": [
            "[Parallel(n_jobs=-1)]: Using backend LokyBackend with 2 concurrent workers.\n",
            "[Parallel(n_jobs=-1)]: Using backend LokyBackend with 2 concurrent workers.\n"
          ]
        },
        {
          "output_type": "stream",
          "name": "stdout",
          "text": [
            "    computing connectivity for epochs 53..53\n"
          ]
        },
        {
          "output_type": "stream",
          "name": "stderr",
          "text": [
            "[Parallel(n_jobs=-1)]: Using backend LokyBackend with 2 concurrent workers.\n"
          ]
        },
        {
          "output_type": "stream",
          "name": "stdout",
          "text": [
            "    computing connectivity for epochs 54..54\n"
          ]
        },
        {
          "output_type": "stream",
          "name": "stderr",
          "text": [
            "[Parallel(n_jobs=-1)]: Using backend LokyBackend with 2 concurrent workers.\n"
          ]
        },
        {
          "output_type": "stream",
          "name": "stdout",
          "text": [
            "    computing connectivity for epochs 55..55\n",
            "    computing connectivity for epochs 56..56\n"
          ]
        },
        {
          "output_type": "stream",
          "name": "stderr",
          "text": [
            "[Parallel(n_jobs=-1)]: Using backend LokyBackend with 2 concurrent workers.\n",
            "[Parallel(n_jobs=-1)]: Using backend LokyBackend with 2 concurrent workers.\n"
          ]
        },
        {
          "output_type": "stream",
          "name": "stdout",
          "text": [
            "    computing connectivity for epochs 57..57\n",
            "    computing connectivity for epochs 58..58\n"
          ]
        },
        {
          "output_type": "stream",
          "name": "stderr",
          "text": [
            "[Parallel(n_jobs=-1)]: Using backend LokyBackend with 2 concurrent workers.\n",
            "[Parallel(n_jobs=-1)]: Using backend LokyBackend with 2 concurrent workers.\n"
          ]
        },
        {
          "output_type": "stream",
          "name": "stdout",
          "text": [
            "    computing connectivity for epochs 59..59\n",
            "    computing connectivity for epochs 60..60\n"
          ]
        },
        {
          "output_type": "stream",
          "name": "stderr",
          "text": [
            "[Parallel(n_jobs=-1)]: Using backend LokyBackend with 2 concurrent workers.\n",
            "[Parallel(n_jobs=-1)]: Using backend LokyBackend with 2 concurrent workers.\n"
          ]
        },
        {
          "output_type": "stream",
          "name": "stdout",
          "text": [
            "    computing connectivity for epochs 61..61\n",
            "    computing connectivity for epochs 62..62\n"
          ]
        },
        {
          "output_type": "stream",
          "name": "stderr",
          "text": [
            "[Parallel(n_jobs=-1)]: Using backend LokyBackend with 2 concurrent workers.\n",
            "[Parallel(n_jobs=-1)]: Using backend LokyBackend with 2 concurrent workers.\n"
          ]
        },
        {
          "output_type": "stream",
          "name": "stdout",
          "text": [
            "    computing connectivity for epochs 63..63\n",
            "    computing connectivity for epochs 64..64\n"
          ]
        },
        {
          "output_type": "stream",
          "name": "stderr",
          "text": [
            "[Parallel(n_jobs=-1)]: Using backend LokyBackend with 2 concurrent workers.\n",
            "[Parallel(n_jobs=-1)]: Using backend LokyBackend with 2 concurrent workers.\n"
          ]
        },
        {
          "output_type": "stream",
          "name": "stdout",
          "text": [
            "    computing connectivity for epochs 65..65\n",
            "    computing connectivity for epochs 66..66\n"
          ]
        },
        {
          "output_type": "stream",
          "name": "stderr",
          "text": [
            "[Parallel(n_jobs=-1)]: Using backend LokyBackend with 2 concurrent workers.\n",
            "[Parallel(n_jobs=-1)]: Using backend LokyBackend with 2 concurrent workers.\n"
          ]
        },
        {
          "output_type": "stream",
          "name": "stdout",
          "text": [
            "    computing connectivity for epochs 67..67\n",
            "    computing connectivity for epochs 68..68\n"
          ]
        },
        {
          "output_type": "stream",
          "name": "stderr",
          "text": [
            "[Parallel(n_jobs=-1)]: Using backend LokyBackend with 2 concurrent workers.\n",
            "[Parallel(n_jobs=-1)]: Using backend LokyBackend with 2 concurrent workers.\n"
          ]
        },
        {
          "output_type": "stream",
          "name": "stdout",
          "text": [
            "    assembling connectivity matrix\n",
            "[Connectivity computation done]\n"
          ]
        }
      ]
    },
    {
      "cell_type": "code",
      "source": [
        "import networkx as nx\n",
        "import matplotlib.pyplot as plt\n",
        "import pandas as pd\n",
        "from pydrive.auth import GoogleAuth\n",
        "from pydrive.drive import GoogleDrive"
      ],
      "metadata": {
        "id": "bIPf68RIfes6"
      },
      "execution_count": 23,
      "outputs": []
    },
    {
      "cell_type": "code",
      "source": [
        "import os\n",
        "\n",
        "# Assuming the file is a CSV file\n",
        "file_path = '/content/gdrive/My Drive/Colab Notebooks/VatEvgDo_matrix_sensors_wpli.csv'\n",
        "\n",
        "# Read the CSV file into a DataFrame\n",
        "con = pd.read_csv(file_path, index_col=0)\n",
        "\n",
        "# Create a graph from the weighted adjacency matrix\n",
        "G = nx.from_numpy_array(con.values)\n",
        "\n"
      ],
      "metadata": {
        "id": "Cv6AcDL-Mazt"
      },
      "execution_count": 61,
      "outputs": []
    },
    {
      "cell_type": "code",
      "source": [
        "print(G)"
      ],
      "metadata": {
        "id": "MJxiTov4v5-R",
        "outputId": "cc7a67d9-a8f6-4a29-a755-defd81cd5402",
        "colab": {
          "base_uri": "https://localhost:8080/"
        }
      },
      "execution_count": 62,
      "outputs": [
        {
          "output_type": "stream",
          "name": "stdout",
          "text": [
            "Graph with 57 nodes and 1596 edges\n"
          ]
        }
      ]
    },
    {
      "cell_type": "code",
      "source": [
        "# Degree Centrality\n",
        "degree_centrality = nx.degree_centrality(G)\n",
        "\n",
        "# Betweenness Centrality\n",
        "betweenness_centrality = nx.betweenness_centrality(G)\n",
        "\n",
        "# Assortativity\n",
        "assortativity = nx.degree_assortativity_coefficient(G)\n",
        "\n",
        "# Transitivity\n",
        "transitivity = nx.transitivity(G)\n",
        "\n",
        "# Efficiency\n",
        "efficiency = nx.global_efficiency(G)\n",
        "\n",
        "# Modularity\n",
        "#modularity = nx.community.modularity(nx.community.greedy_modularity_communities(G), G)\n",
        "\n",
        "# Density\n",
        "density = nx.density(G)\n",
        "\n",
        "# Print or use the results as needed\n",
        "print(\"Degree Centrality:\", degree_centrality)\n",
        "print(\"Betweenness Centrality:\", betweenness_centrality)\n",
        "print(\"Assortativity:\", assortativity)\n",
        "print(\"Transitivity:\", transitivity)\n",
        "print(\"Efficiency:\", efficiency)\n",
        "#print(\"Modularity:\", modularity)\n",
        "print(\"Density:\", density)"
      ],
      "metadata": {
        "id": "E1RU6TzSyQoc",
        "outputId": "10dbe4a7-4c88-4b56-d0bf-174aa0a4a8ef",
        "colab": {
          "base_uri": "https://localhost:8080/"
        }
      },
      "execution_count": 64,
      "outputs": [
        {
          "output_type": "stream",
          "name": "stdout",
          "text": [
            "Degree Centrality: {0: 1.0, 1: 1.0, 2: 1.0, 3: 1.0, 4: 1.0, 5: 1.0, 6: 1.0, 7: 1.0, 8: 1.0, 9: 1.0, 10: 1.0, 11: 1.0, 12: 1.0, 13: 1.0, 14: 1.0, 15: 1.0, 16: 1.0, 17: 1.0, 18: 1.0, 19: 1.0, 20: 1.0, 21: 1.0, 22: 1.0, 23: 1.0, 24: 1.0, 25: 1.0, 26: 1.0, 27: 1.0, 28: 1.0, 29: 1.0, 30: 1.0, 31: 1.0, 32: 1.0, 33: 1.0, 34: 1.0, 35: 1.0, 36: 1.0, 37: 1.0, 38: 1.0, 39: 1.0, 40: 1.0, 41: 1.0, 42: 1.0, 43: 1.0, 44: 1.0, 45: 1.0, 46: 1.0, 47: 1.0, 48: 1.0, 49: 1.0, 50: 1.0, 51: 1.0, 52: 1.0, 53: 1.0, 54: 1.0, 55: 1.0, 56: 1.0}\n",
            "Betweenness Centrality: {0: 0.0, 1: 0.0, 2: 0.0, 3: 0.0, 4: 0.0, 5: 0.0, 6: 0.0, 7: 0.0, 8: 0.0, 9: 0.0, 10: 0.0, 11: 0.0, 12: 0.0, 13: 0.0, 14: 0.0, 15: 0.0, 16: 0.0, 17: 0.0, 18: 0.0, 19: 0.0, 20: 0.0, 21: 0.0, 22: 0.0, 23: 0.0, 24: 0.0, 25: 0.0, 26: 0.0, 27: 0.0, 28: 0.0, 29: 0.0, 30: 0.0, 31: 0.0, 32: 0.0, 33: 0.0, 34: 0.0, 35: 0.0, 36: 0.0, 37: 0.0, 38: 0.0, 39: 0.0, 40: 0.0, 41: 0.0, 42: 0.0, 43: 0.0, 44: 0.0, 45: 0.0, 46: 0.0, 47: 0.0, 48: 0.0, 49: 0.0, 50: 0.0, 51: 0.0, 52: 0.0, 53: 0.0, 54: 0.0, 55: 0.0, 56: 0.0}\n",
            "Assortativity: nan\n",
            "Transitivity: 1.0\n",
            "Efficiency: 1.0\n",
            "Density: 1.0\n"
          ]
        }
      ]
    },
    {
      "cell_type": "code",
      "source": [],
      "metadata": {
        "id": "ibEfHoN2y6P0"
      },
      "execution_count": null,
      "outputs": []
    },
    {
      "cell_type": "code",
      "source": [
        "import os\n",
        "import numpy as np\n",
        "import pandas as pd\n",
        "import networkx as nx\n",
        "\n",
        "# Assuming the file is a CSV file\n",
        "file_path = '/content/gdrive/My Drive/Colab Notebooks/VatEvgDo_matrix_sensors_wpli.csv'\n",
        "\n",
        "# Read the CSV file into a DataFrame\n",
        "con = pd.read_csv(file_path, index_col=0)\n",
        "\n",
        "# Create a graph from the weighted adjacency matrix\n",
        "G = nx.from_numpy_array(con.values)\n",
        "\n",
        "# Calculate global graph metrics\n",
        "degree_centrality = nx.degree_centrality(G)\n",
        "betweenness_centrality = nx.betweenness_centrality(G)\n",
        "closeness_centrality = nx.closeness_centrality(G)\n",
        "eigenvector_centrality = nx.eigenvector_centrality(G)\n",
        "assortativity = nx.degree_assortativity_coefficient(G)\n",
        "transitivity = nx.transitivity(G)\n",
        "average_clustering = nx.average_clustering(G)\n",
        "density = nx.density(G)\n",
        "\n",
        "# Print or use the results as needed\n",
        "print(\"Degree Centrality:\", degree_centrality)\n",
        "print(\"Betweenness Centrality:\", betweenness_centrality)\n",
        "print(\"Closeness Centrality:\", closeness_centrality)\n",
        "print(\"Eigenvector Centrality:\", eigenvector_centrality)\n",
        "print(\"Assortativity:\", assortativity)\n",
        "print(\"Transitivity:\", transitivity)\n",
        "print(\"Average Clustering:\", average_clustering)\n",
        "print(\"Density:\", density)\n"
      ],
      "metadata": {
        "id": "eRpHlVAay6sq",
        "outputId": "74ab6fd9-0dfa-4a88-8239-1c7aee134689",
        "colab": {
          "base_uri": "https://localhost:8080/"
        }
      },
      "execution_count": 65,
      "outputs": [
        {
          "output_type": "stream",
          "name": "stdout",
          "text": [
            "Degree Centrality: {0: 1.0, 1: 1.0, 2: 1.0, 3: 1.0, 4: 1.0, 5: 1.0, 6: 1.0, 7: 1.0, 8: 1.0, 9: 1.0, 10: 1.0, 11: 1.0, 12: 1.0, 13: 1.0, 14: 1.0, 15: 1.0, 16: 1.0, 17: 1.0, 18: 1.0, 19: 1.0, 20: 1.0, 21: 1.0, 22: 1.0, 23: 1.0, 24: 1.0, 25: 1.0, 26: 1.0, 27: 1.0, 28: 1.0, 29: 1.0, 30: 1.0, 31: 1.0, 32: 1.0, 33: 1.0, 34: 1.0, 35: 1.0, 36: 1.0, 37: 1.0, 38: 1.0, 39: 1.0, 40: 1.0, 41: 1.0, 42: 1.0, 43: 1.0, 44: 1.0, 45: 1.0, 46: 1.0, 47: 1.0, 48: 1.0, 49: 1.0, 50: 1.0, 51: 1.0, 52: 1.0, 53: 1.0, 54: 1.0, 55: 1.0, 56: 1.0}\n",
            "Betweenness Centrality: {0: 0.0, 1: 0.0, 2: 0.0, 3: 0.0, 4: 0.0, 5: 0.0, 6: 0.0, 7: 0.0, 8: 0.0, 9: 0.0, 10: 0.0, 11: 0.0, 12: 0.0, 13: 0.0, 14: 0.0, 15: 0.0, 16: 0.0, 17: 0.0, 18: 0.0, 19: 0.0, 20: 0.0, 21: 0.0, 22: 0.0, 23: 0.0, 24: 0.0, 25: 0.0, 26: 0.0, 27: 0.0, 28: 0.0, 29: 0.0, 30: 0.0, 31: 0.0, 32: 0.0, 33: 0.0, 34: 0.0, 35: 0.0, 36: 0.0, 37: 0.0, 38: 0.0, 39: 0.0, 40: 0.0, 41: 0.0, 42: 0.0, 43: 0.0, 44: 0.0, 45: 0.0, 46: 0.0, 47: 0.0, 48: 0.0, 49: 0.0, 50: 0.0, 51: 0.0, 52: 0.0, 53: 0.0, 54: 0.0, 55: 0.0, 56: 0.0}\n",
            "Closeness Centrality: {0: 1.0, 1: 1.0, 2: 1.0, 3: 1.0, 4: 1.0, 5: 1.0, 6: 1.0, 7: 1.0, 8: 1.0, 9: 1.0, 10: 1.0, 11: 1.0, 12: 1.0, 13: 1.0, 14: 1.0, 15: 1.0, 16: 1.0, 17: 1.0, 18: 1.0, 19: 1.0, 20: 1.0, 21: 1.0, 22: 1.0, 23: 1.0, 24: 1.0, 25: 1.0, 26: 1.0, 27: 1.0, 28: 1.0, 29: 1.0, 30: 1.0, 31: 1.0, 32: 1.0, 33: 1.0, 34: 1.0, 35: 1.0, 36: 1.0, 37: 1.0, 38: 1.0, 39: 1.0, 40: 1.0, 41: 1.0, 42: 1.0, 43: 1.0, 44: 1.0, 45: 1.0, 46: 1.0, 47: 1.0, 48: 1.0, 49: 1.0, 50: 1.0, 51: 1.0, 52: 1.0, 53: 1.0, 54: 1.0, 55: 1.0, 56: 1.0}\n",
            "Eigenvector Centrality: {0: 0.13245323570650439, 1: 0.13245323570650439, 2: 0.13245323570650439, 3: 0.13245323570650439, 4: 0.13245323570650439, 5: 0.13245323570650439, 6: 0.13245323570650439, 7: 0.13245323570650439, 8: 0.13245323570650439, 9: 0.13245323570650439, 10: 0.13245323570650439, 11: 0.13245323570650439, 12: 0.13245323570650439, 13: 0.13245323570650439, 14: 0.13245323570650439, 15: 0.13245323570650439, 16: 0.13245323570650439, 17: 0.13245323570650439, 18: 0.13245323570650439, 19: 0.13245323570650439, 20: 0.13245323570650439, 21: 0.13245323570650439, 22: 0.13245323570650439, 23: 0.13245323570650439, 24: 0.13245323570650439, 25: 0.13245323570650439, 26: 0.13245323570650439, 27: 0.13245323570650439, 28: 0.13245323570650439, 29: 0.13245323570650439, 30: 0.13245323570650439, 31: 0.13245323570650439, 32: 0.13245323570650439, 33: 0.13245323570650439, 34: 0.13245323570650439, 35: 0.13245323570650439, 36: 0.13245323570650439, 37: 0.13245323570650439, 38: 0.13245323570650439, 39: 0.13245323570650439, 40: 0.13245323570650439, 41: 0.13245323570650439, 42: 0.13245323570650439, 43: 0.13245323570650439, 44: 0.13245323570650439, 45: 0.13245323570650439, 46: 0.13245323570650439, 47: 0.13245323570650439, 48: 0.13245323570650439, 49: 0.13245323570650439, 50: 0.13245323570650439, 51: 0.13245323570650439, 52: 0.13245323570650439, 53: 0.13245323570650439, 54: 0.13245323570650439, 55: 0.13245323570650439, 56: 0.13245323570650439}\n",
            "Assortativity: nan\n",
            "Transitivity: 1.0\n",
            "Average Clustering: 1.0\n",
            "Density: 1.0\n"
          ]
        },
        {
          "output_type": "stream",
          "name": "stderr",
          "text": [
            "/usr/local/lib/python3.10/dist-packages/networkx/algorithms/assortativity/correlation.py:302: RuntimeWarning: invalid value encountered in double_scalars\n",
            "  return (xy * (M - ab)).sum() / np.sqrt(vara * varb)\n"
          ]
        }
      ]
    },
    {
      "cell_type": "code",
      "source": [
        "import pandas as pd\n",
        "import networkx as nx\n",
        "import numpy as np\n",
        "\n",
        "# Load the matrix from CSV file\n",
        "file_path = '/content/gdrive/My Drive/Colab Notebooks/VatEvgDo_matrix_sensors_wpli.csv'\n",
        "matrix = pd.read_csv(file_path, index_col=0)\n",
        "\n",
        "# Convert the DataFrame to a NumPy array for compatibility with NetworkX\n",
        "adjacency_matrix = matrix.to_numpy()\n",
        "\n",
        "# Create a graph from the adjacency matrix\n",
        "graph = nx.Graph(adjacency_matrix)\n",
        "\n",
        "# Calculate node degrees\n",
        "node_degrees = dict(graph.degree())\n",
        "\n",
        "# Calculate network density\n",
        "density = nx.density(graph)\n",
        "\n",
        "# Calculate clustering coefficient\n",
        "clustering_coefficient = nx.average_clustering(graph)\n",
        "\n",
        "# Calculate betweenness centrality\n",
        "betweenness_centrality = nx.betweenness_centrality(graph)\n",
        "\n",
        "# Calculate eigenvector centrality\n",
        "eigenvector_centrality = nx.eigenvector_centrality(graph)\n",
        "\n",
        "# Calculate modularity\n",
        "modularity = nx.community.modularity_max.greedy_modularity_communities(graph)\n",
        "\n",
        "# Calculate graph diameter\n",
        "diameter = nx.diameter(graph)\n",
        "\n",
        "# Calculate connected components\n",
        "connected_components = list(nx.connected_components(graph))\n",
        "\n",
        "# Display the results\n",
        "print(\"Node Degrees:\", node_degrees)\n",
        "print(\"Network Density:\", density)\n",
        "print(\"Clustering Coefficient:\", clustering_coefficient)\n",
        "print(\"Betweenness Centrality:\", betweenness_centrality)\n",
        "print(\"Eigenvector Centrality:\", eigenvector_centrality)\n",
        "print(\"Modularity:\", modularity)\n",
        "print(\"Graph Diameter:\", diameter)\n",
        "print(\"Connected Components:\", connected_components)\n"
      ],
      "metadata": {
        "id": "KQYdOU4e0wP1",
        "outputId": "88ef4e66-b7d5-4d18-804f-f720bc6ac63a",
        "colab": {
          "base_uri": "https://localhost:8080/"
        }
      },
      "execution_count": 69,
      "outputs": [
        {
          "output_type": "stream",
          "name": "stdout",
          "text": [
            "Node Degrees: {0: 56, 1: 56, 2: 56, 3: 56, 4: 56, 5: 56, 6: 56, 7: 56, 8: 56, 9: 56, 10: 56, 11: 56, 12: 56, 13: 56, 14: 56, 15: 56, 16: 56, 17: 56, 18: 56, 19: 56, 20: 56, 21: 56, 22: 56, 23: 56, 24: 56, 25: 56, 26: 56, 27: 56, 28: 56, 29: 56, 30: 56, 31: 56, 32: 56, 33: 56, 34: 56, 35: 56, 36: 56, 37: 56, 38: 56, 39: 56, 40: 56, 41: 56, 42: 56, 43: 56, 44: 56, 45: 56, 46: 56, 47: 56, 48: 56, 49: 56, 50: 56, 51: 56, 52: 56, 53: 56, 54: 56, 55: 56, 56: 56}\n",
            "Network Density: 1.0\n",
            "Clustering Coefficient: 1.0\n",
            "Betweenness Centrality: {0: 0.0, 1: 0.0, 2: 0.0, 3: 0.0, 4: 0.0, 5: 0.0, 6: 0.0, 7: 0.0, 8: 0.0, 9: 0.0, 10: 0.0, 11: 0.0, 12: 0.0, 13: 0.0, 14: 0.0, 15: 0.0, 16: 0.0, 17: 0.0, 18: 0.0, 19: 0.0, 20: 0.0, 21: 0.0, 22: 0.0, 23: 0.0, 24: 0.0, 25: 0.0, 26: 0.0, 27: 0.0, 28: 0.0, 29: 0.0, 30: 0.0, 31: 0.0, 32: 0.0, 33: 0.0, 34: 0.0, 35: 0.0, 36: 0.0, 37: 0.0, 38: 0.0, 39: 0.0, 40: 0.0, 41: 0.0, 42: 0.0, 43: 0.0, 44: 0.0, 45: 0.0, 46: 0.0, 47: 0.0, 48: 0.0, 49: 0.0, 50: 0.0, 51: 0.0, 52: 0.0, 53: 0.0, 54: 0.0, 55: 0.0, 56: 0.0}\n",
            "Eigenvector Centrality: {0: 0.13245323570650439, 1: 0.13245323570650439, 2: 0.13245323570650439, 3: 0.13245323570650439, 4: 0.13245323570650439, 5: 0.13245323570650439, 6: 0.13245323570650439, 7: 0.13245323570650439, 8: 0.13245323570650439, 9: 0.13245323570650439, 10: 0.13245323570650439, 11: 0.13245323570650439, 12: 0.13245323570650439, 13: 0.13245323570650439, 14: 0.13245323570650439, 15: 0.13245323570650439, 16: 0.13245323570650439, 17: 0.13245323570650439, 18: 0.13245323570650439, 19: 0.13245323570650439, 20: 0.13245323570650439, 21: 0.13245323570650439, 22: 0.13245323570650439, 23: 0.13245323570650439, 24: 0.13245323570650439, 25: 0.13245323570650439, 26: 0.13245323570650439, 27: 0.13245323570650439, 28: 0.13245323570650439, 29: 0.13245323570650439, 30: 0.13245323570650439, 31: 0.13245323570650439, 32: 0.13245323570650439, 33: 0.13245323570650439, 34: 0.13245323570650439, 35: 0.13245323570650439, 36: 0.13245323570650439, 37: 0.13245323570650439, 38: 0.13245323570650439, 39: 0.13245323570650439, 40: 0.13245323570650439, 41: 0.13245323570650439, 42: 0.13245323570650439, 43: 0.13245323570650439, 44: 0.13245323570650439, 45: 0.13245323570650439, 46: 0.13245323570650439, 47: 0.13245323570650439, 48: 0.13245323570650439, 49: 0.13245323570650439, 50: 0.13245323570650439, 51: 0.13245323570650439, 52: 0.13245323570650439, 53: 0.13245323570650439, 54: 0.13245323570650439, 55: 0.13245323570650439, 56: 0.13245323570650439}\n",
            "Modularity: [frozenset({0, 1, 2, 3, 4, 5, 6, 7, 8, 9, 10, 11, 12, 13, 14, 15, 16, 17, 18, 19, 20, 21, 22, 23, 24, 25, 26, 27, 28, 29, 30, 31, 32, 33, 34, 35, 36, 37, 38, 39, 40, 41, 42, 43, 44, 45, 46, 47, 48, 49, 50, 51, 52, 53, 54, 55, 56})]\n",
            "Graph Diameter: 1\n",
            "Connected Components: [{0, 1, 2, 3, 4, 5, 6, 7, 8, 9, 10, 11, 12, 13, 14, 15, 16, 17, 18, 19, 20, 21, 22, 23, 24, 25, 26, 27, 28, 29, 30, 31, 32, 33, 34, 35, 36, 37, 38, 39, 40, 41, 42, 43, 44, 45, 46, 47, 48, 49, 50, 51, 52, 53, 54, 55, 56}]\n"
          ]
        }
      ]
    },
    {
      "cell_type": "code",
      "source": [
        "file_matrix = '/content/gdrive/My Drive/Colab Notebooks/a.csv'\n",
        "file_labels = '/content/gdrive/My Drive/Colab Notebooks/electrodes.csv'"
      ],
      "metadata": {
        "id": "dsodJDFIg5on"
      },
      "execution_count": 54,
      "outputs": []
    },
    {
      "cell_type": "code",
      "source": [
        "# Load adjacency matrix from CSV file\n",
        "adjacency_matrix = np.loadtxt(file_matrix, delimiter=',', skiprows=1)\n",
        "\n",
        "# Load electrode labels from CSV file\n",
        "try:\n",
        "    electrode_labels = pd.read_csv(file_labels)['electrode_labels'].tolist()\n",
        "except KeyError as e:\n",
        "    print(f\"Error: Column '{e.args[0]}' not found in the electrode labels CSV file.\")\n",
        "    exit(1)\n",
        "\n",
        "# Create a graph from the adjacency matrix\n",
        "G = nx.from_numpy_array(adjacency_matrix)\n",
        "\n",
        "# Set the electrode labels as node attributes\n",
        "labels = {i: label for i, label in enumerate(electrode_labels)}\n",
        "nx.set_node_attributes(G, labels, 'label')\n",
        "\n",
        "# Calculate eigenvector centrality\n",
        "centrality = nx.eigenvector_centrality(G)\n",
        "\n",
        "# Visualize the graph\n",
        "pos = nx.spring_layout(G)\n",
        "nx.draw_networkx(G, pos, with_labels=False, node_color='lightblue')\n",
        "nx.draw_networkx_labels(G, pos, labels=nx.get_node_attributes(G, 'label'), font_size=8)\n",
        "plt.title(\"Graph with Eigenvector Centrality\")\n",
        "plt.show()"
      ],
      "metadata": {
        "id": "-5O1vPV6Ztch",
        "outputId": "062524a8-02de-43f4-91a2-1d71551982bd",
        "colab": {
          "base_uri": "https://localhost:8080/",
          "height": 428
        }
      },
      "execution_count": null,
      "outputs": [
        {
          "output_type": "display_data",
          "data": {
            "text/plain": [
              "<Figure size 640x480 with 1 Axes>"
            ],
            "image/png": "[encoded data removed]"
          },
          "metadata": {}
        }
      ]
    },
    {
      "cell_type": "code",
      "source": [
        "import pandas as pd\n",
        "import seaborn as sns\n",
        "import matplotlib.pyplot as plt\n",
        "\n",
        "# Load the connectivity matrix from the CSV file\n",
        "connectivity_file = '/content/gdrive/My Drive/Colab Notebooks/VatEvgDo_matrix_sensors_wpli.csv'\n",
        "connectivity_data = pd.read_csv(connectivity_file, index_col=0)\n",
        "\n",
        "# Create a figure and axis\n",
        "fig, ax = plt.subplots(figsize=(10, 10))\n",
        "\n",
        "# Plot the connectivity matrix as a heatmap\n",
        "sns.heatmap(connectivity_data, cmap='coolwarm', ax=ax)\n",
        "\n",
        "# Set x-axis and y-axis labels\n",
        "ax.set_xlabel('Electrode')\n",
        "ax.set_ylabel('Electrode')\n",
        "\n",
        "# Set plot title\n",
        "ax.set_title('EEG Connectivity Matrix')\n",
        "\n",
        "# Rotate x-axis labels for better visibility\n",
        "plt.xticks(rotation=45, ha='right')\n",
        "\n",
        "# Display the plot\n",
        "plt.show()\n"
      ],
      "metadata": {
        "id": "-ua8ZRn1l4Vw",
        "outputId": "ce776fbc-9244-4516-845e-80ade4dec7ac",
        "colab": {
          "base_uri": "https://localhost:8080/",
          "height": 888
        }
      },
      "execution_count": null,
      "outputs": [
        {
          "output_type": "display_data",
          "data": {
            "text/plain": [
              "<Figure size 1000x1000 with 2 Axes>"
            ],
            "image/png": "[encoded data removed]"
          },
          "metadata": {}
        }
      ]
    }
  ]
}