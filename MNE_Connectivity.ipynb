{
  "nbformat": 4,
  "nbformat_minor": 0,
  "metadata": {
    "colab": {
      "provenance": [],
      "authorship_tag": "ABX9TyNpvP8pfNsp+aLQoPqpIK3T",
      "include_colab_link": true
    },
    "kernelspec": {
      "name": "python3",
      "display_name": "Python 3"
    },
    "language_info": {
      "name": "python"
    }
  },
  "cells": [
    {
      "cell_type": "markdown",
      "metadata": {
        "id": "view-in-github",
        "colab_type": "text"
      },
      "source": [
        "<a href=\"https://colab.research.google.com/github/Nadezda-Sut/EEG/blob/main/MNE_Connectivity.ipynb\" target=\"_parent\"><img src=\"https://colab.research.google.com/assets/colab-badge.svg\" alt=\"Open In Colab\"/></a>"
      ]
    },
    {
      "cell_type": "code",
      "source": [
        "!pip install mne==0.15.0\n",
        "\n"
      ],
      "metadata": {
        "id": "6Z_UgAjg4tvF",
        "outputId": "de82bc11-e507-46e9-d27b-fc517592b6bf",
        "colab": {
          "base_uri": "https://localhost:8080/",
          "height": 436
        }
      },
      "execution_count": 262,
      "outputs": [
        {
          "output_type": "stream",
          "name": "stdout",
          "text": [
            "Looking in indexes: https://pypi.org/simple, https://us-python.pkg.dev/colab-wheels/public/simple/\n",
            "Collecting mne==0.15.0\n",
            "  Downloading mne-0.15.tar.gz (6.0 MB)\n",
            "\u001b[2K     \u001b[90m━━━━━━━━━━━━━━━━━━━━━━━━━━━━━━━━━━━━━━━━\u001b[0m \u001b[32m6.0/6.0 MB\u001b[0m \u001b[31m14.8 MB/s\u001b[0m eta \u001b[36m0:00:00\u001b[0m\n",
            "\u001b[?25h  Preparing metadata (setup.py) ... \u001b[?25l\u001b[?25hdone\n",
            "Building wheels for collected packages: mne\n",
            "  Building wheel for mne (setup.py) ... \u001b[?25l\u001b[?25hdone\n",
            "  Created wheel for mne: filename=mne-0.15-py3-none-any.whl size=6003955 sha256=63ead55eb93a5cb086be95a6bc0038f3904aa4686cfa44f9f9a53393b3746e01\n",
            "  Stored in directory: /root/.cache/pip/wheels/61/0c/e3/1c5fe37b01821a55175908e6de4f40397c170f28d3938d002a\n",
            "Successfully built mne\n",
            "Installing collected packages: mne\n",
            "  Attempting uninstall: mne\n",
            "    Found existing installation: mne 1.4.0\n",
            "    Uninstalling mne-1.4.0:\n",
            "      Successfully uninstalled mne-1.4.0\n",
            "\u001b[31mERROR: pip's dependency resolver does not currently take into account all the packages that are installed. This behaviour is the source of the following dependency conflicts.\n",
            "autoreject 0.4.1 requires mne[hdf5]>=1.0, but you have mne 0.15 which is incompatible.\u001b[0m\u001b[31m\n",
            "\u001b[0mSuccessfully installed mne-0.15\n"
          ]
        },
        {
          "output_type": "display_data",
          "data": {
            "application/vnd.colab-display-data+json": {
              "pip_warning": {
                "packages": [
                  "mne"
                ]
              }
            }
          },
          "metadata": {}
        }
      ]
    },
    {
      "cell_type": "code",
      "source": [
        "!pip install autoreject"
      ],
      "metadata": {
        "id": "s2NOE5cmUpVn",
        "outputId": "276b1738-82c6-4985-a8bb-8a6124dcb733",
        "colab": {
          "base_uri": "https://localhost:8080/",
          "height": 835
        }
      },
      "execution_count": 263,
      "outputs": [
        {
          "output_type": "stream",
          "name": "stdout",
          "text": [
            "Looking in indexes: https://pypi.org/simple, https://us-python.pkg.dev/colab-wheels/public/simple/\n",
            "Requirement already satisfied: autoreject in /usr/local/lib/python3.10/dist-packages (0.4.1)\n",
            "Requirement already satisfied: numpy>=1.20 in /usr/local/lib/python3.10/dist-packages (from autoreject) (1.22.4)\n",
            "Requirement already satisfied: scipy>=1.6 in /usr/local/lib/python3.10/dist-packages (from autoreject) (1.10.1)\n",
            "Collecting mne[hdf5]>=1.0 (from autoreject)\n",
            "  Using cached mne-1.4.0-py3-none-any.whl (7.7 MB)\n",
            "Requirement already satisfied: scikit-learn>=0.24 in /usr/local/lib/python3.10/dist-packages (from autoreject) (1.2.2)\n",
            "Requirement already satisfied: joblib in /usr/local/lib/python3.10/dist-packages (from autoreject) (1.2.0)\n",
            "Requirement already satisfied: matplotlib>=3.3 in /usr/local/lib/python3.10/dist-packages (from autoreject) (3.7.1)\n",
            "Requirement already satisfied: contourpy>=1.0.1 in /usr/local/lib/python3.10/dist-packages (from matplotlib>=3.3->autoreject) (1.0.7)\n",
            "Requirement already satisfied: cycler>=0.10 in /usr/local/lib/python3.10/dist-packages (from matplotlib>=3.3->autoreject) (0.11.0)\n",
            "Requirement already satisfied: fonttools>=4.22.0 in /usr/local/lib/python3.10/dist-packages (from matplotlib>=3.3->autoreject) (4.39.3)\n",
            "Requirement already satisfied: kiwisolver>=1.0.1 in /usr/local/lib/python3.10/dist-packages (from matplotlib>=3.3->autoreject) (1.4.4)\n",
            "Requirement already satisfied: packaging>=20.0 in /usr/local/lib/python3.10/dist-packages (from matplotlib>=3.3->autoreject) (23.1)\n",
            "Requirement already satisfied: pillow>=6.2.0 in /usr/local/lib/python3.10/dist-packages (from matplotlib>=3.3->autoreject) (8.4.0)\n",
            "Requirement already satisfied: pyparsing>=2.3.1 in /usr/local/lib/python3.10/dist-packages (from matplotlib>=3.3->autoreject) (3.0.9)\n",
            "Requirement already satisfied: python-dateutil>=2.7 in /usr/local/lib/python3.10/dist-packages (from matplotlib>=3.3->autoreject) (2.8.2)\n",
            "Requirement already satisfied: tqdm in /usr/local/lib/python3.10/dist-packages (from mne[hdf5]>=1.0->autoreject) (4.65.0)\n",
            "Requirement already satisfied: pooch>=1.5 in /usr/local/lib/python3.10/dist-packages (from mne[hdf5]>=1.0->autoreject) (1.6.0)\n",
            "Requirement already satisfied: decorator in /usr/local/lib/python3.10/dist-packages (from mne[hdf5]>=1.0->autoreject) (4.4.2)\n",
            "Requirement already satisfied: jinja2 in /usr/local/lib/python3.10/dist-packages (from mne[hdf5]>=1.0->autoreject) (3.1.2)\n",
            "Requirement already satisfied: h5io in /usr/local/lib/python3.10/dist-packages (from mne[hdf5]>=1.0->autoreject) (0.1.7)\n",
            "Requirement already satisfied: pymatreader in /usr/local/lib/python3.10/dist-packages (from mne[hdf5]>=1.0->autoreject) (0.0.30)\n",
            "Requirement already satisfied: threadpoolctl>=2.0.0 in /usr/local/lib/python3.10/dist-packages (from scikit-learn>=0.24->autoreject) (3.1.0)\n",
            "Requirement already satisfied: appdirs>=1.3.0 in /usr/local/lib/python3.10/dist-packages (from pooch>=1.5->mne[hdf5]>=1.0->autoreject) (1.4.4)\n",
            "Requirement already satisfied: requests>=2.19.0 in /usr/local/lib/python3.10/dist-packages (from pooch>=1.5->mne[hdf5]>=1.0->autoreject) (2.27.1)\n",
            "Requirement already satisfied: six>=1.5 in /usr/local/lib/python3.10/dist-packages (from python-dateutil>=2.7->matplotlib>=3.3->autoreject) (1.16.0)\n",
            "Requirement already satisfied: h5py in /usr/local/lib/python3.10/dist-packages (from h5io->mne[hdf5]>=1.0->autoreject) (3.8.0)\n",
            "Requirement already satisfied: MarkupSafe>=2.0 in /usr/local/lib/python3.10/dist-packages (from jinja2->mne[hdf5]>=1.0->autoreject) (2.1.2)\n",
            "Requirement already satisfied: xmltodict in /usr/local/lib/python3.10/dist-packages (from pymatreader->mne[hdf5]>=1.0->autoreject) (0.13.0)\n",
            "Requirement already satisfied: future in /usr/local/lib/python3.10/dist-packages (from pymatreader->mne[hdf5]>=1.0->autoreject) (0.18.3)\n",
            "Requirement already satisfied: urllib3<1.27,>=1.21.1 in /usr/local/lib/python3.10/dist-packages (from requests>=2.19.0->pooch>=1.5->mne[hdf5]>=1.0->autoreject) (1.26.15)\n",
            "Requirement already satisfied: certifi>=2017.4.17 in /usr/local/lib/python3.10/dist-packages (from requests>=2.19.0->pooch>=1.5->mne[hdf5]>=1.0->autoreject) (2022.12.7)\n",
            "Requirement already satisfied: charset-normalizer~=2.0.0 in /usr/local/lib/python3.10/dist-packages (from requests>=2.19.0->pooch>=1.5->mne[hdf5]>=1.0->autoreject) (2.0.12)\n",
            "Requirement already satisfied: idna<4,>=2.5 in /usr/local/lib/python3.10/dist-packages (from requests>=2.19.0->pooch>=1.5->mne[hdf5]>=1.0->autoreject) (3.4)\n",
            "Installing collected packages: mne\n",
            "  Attempting uninstall: mne\n",
            "    Found existing installation: mne 0.15\n",
            "    Uninstalling mne-0.15:\n",
            "      Successfully uninstalled mne-0.15\n",
            "Successfully installed mne-1.4.0\n"
          ]
        },
        {
          "output_type": "display_data",
          "data": {
            "application/vnd.colab-display-data+json": {
              "pip_warning": {
                "packages": [
                  "mne"
                ]
              }
            }
          },
          "metadata": {}
        }
      ]
    },
    {
      "cell_type": "code",
      "source": [
        "\n",
        "!pip install -U mne-connectivity"
      ],
      "metadata": {
        "id": "C2K1Mv4NpGNW",
        "outputId": "a54cf2b9-7e81-400c-d852-0459dbd5fa37",
        "colab": {
          "base_uri": "https://localhost:8080/"
        }
      },
      "execution_count": 273,
      "outputs": [
        {
          "output_type": "stream",
          "name": "stdout",
          "text": [
            "Looking in indexes: https://pypi.org/simple, https://us-python.pkg.dev/colab-wheels/public/simple/\n",
            "Requirement already satisfied: mne-connectivity in /usr/local/lib/python3.10/dist-packages (0.5.0)\n",
            "Requirement already satisfied: numpy in /usr/local/lib/python3.10/dist-packages (from mne-connectivity) (1.22.4)\n",
            "Requirement already satisfied: scipy in /usr/local/lib/python3.10/dist-packages (from mne-connectivity) (1.10.1)\n",
            "Requirement already satisfied: mne in /usr/local/lib/python3.10/dist-packages (from mne-connectivity) (1.4.0)\n",
            "Requirement already satisfied: xarray in /usr/local/lib/python3.10/dist-packages (from mne-connectivity) (2022.12.0)\n",
            "Requirement already satisfied: netCDF4 in /usr/local/lib/python3.10/dist-packages (from mne-connectivity) (1.6.3)\n",
            "Requirement already satisfied: pandas in /usr/local/lib/python3.10/dist-packages (from mne-connectivity) (1.5.3)\n",
            "Requirement already satisfied: tqdm in /usr/local/lib/python3.10/dist-packages (from mne-connectivity) (4.65.0)\n",
            "Requirement already satisfied: matplotlib in /usr/local/lib/python3.10/dist-packages (from mne->mne-connectivity) (3.7.1)\n",
            "Requirement already satisfied: pooch>=1.5 in /usr/local/lib/python3.10/dist-packages (from mne->mne-connectivity) (1.6.0)\n",
            "Requirement already satisfied: decorator in /usr/local/lib/python3.10/dist-packages (from mne->mne-connectivity) (4.4.2)\n",
            "Requirement already satisfied: packaging in /usr/local/lib/python3.10/dist-packages (from mne->mne-connectivity) (23.1)\n",
            "Requirement already satisfied: jinja2 in /usr/local/lib/python3.10/dist-packages (from mne->mne-connectivity) (3.1.2)\n",
            "Requirement already satisfied: cftime in /usr/local/lib/python3.10/dist-packages (from netCDF4->mne-connectivity) (1.6.2)\n",
            "Requirement already satisfied: python-dateutil>=2.8.1 in /usr/local/lib/python3.10/dist-packages (from pandas->mne-connectivity) (2.8.2)\n",
            "Requirement already satisfied: pytz>=2020.1 in /usr/local/lib/python3.10/dist-packages (from pandas->mne-connectivity) (2022.7.1)\n",
            "Requirement already satisfied: appdirs>=1.3.0 in /usr/local/lib/python3.10/dist-packages (from pooch>=1.5->mne->mne-connectivity) (1.4.4)\n",
            "Requirement already satisfied: requests>=2.19.0 in /usr/local/lib/python3.10/dist-packages (from pooch>=1.5->mne->mne-connectivity) (2.27.1)\n",
            "Requirement already satisfied: six>=1.5 in /usr/local/lib/python3.10/dist-packages (from python-dateutil>=2.8.1->pandas->mne-connectivity) (1.16.0)\n",
            "Requirement already satisfied: MarkupSafe>=2.0 in /usr/local/lib/python3.10/dist-packages (from jinja2->mne->mne-connectivity) (2.1.2)\n",
            "Requirement already satisfied: contourpy>=1.0.1 in /usr/local/lib/python3.10/dist-packages (from matplotlib->mne->mne-connectivity) (1.0.7)\n",
            "Requirement already satisfied: cycler>=0.10 in /usr/local/lib/python3.10/dist-packages (from matplotlib->mne->mne-connectivity) (0.11.0)\n",
            "Requirement already satisfied: fonttools>=4.22.0 in /usr/local/lib/python3.10/dist-packages (from matplotlib->mne->mne-connectivity) (4.39.3)\n",
            "Requirement already satisfied: kiwisolver>=1.0.1 in /usr/local/lib/python3.10/dist-packages (from matplotlib->mne->mne-connectivity) (1.4.4)\n",
            "Requirement already satisfied: pillow>=6.2.0 in /usr/local/lib/python3.10/dist-packages (from matplotlib->mne->mne-connectivity) (8.4.0)\n",
            "Requirement already satisfied: pyparsing>=2.3.1 in /usr/local/lib/python3.10/dist-packages (from matplotlib->mne->mne-connectivity) (3.0.9)\n",
            "Requirement already satisfied: urllib3<1.27,>=1.21.1 in /usr/local/lib/python3.10/dist-packages (from requests>=2.19.0->pooch>=1.5->mne->mne-connectivity) (1.26.15)\n",
            "Requirement already satisfied: certifi>=2017.4.17 in /usr/local/lib/python3.10/dist-packages (from requests>=2.19.0->pooch>=1.5->mne->mne-connectivity) (2022.12.7)\n",
            "Requirement already satisfied: charset-normalizer~=2.0.0 in /usr/local/lib/python3.10/dist-packages (from requests>=2.19.0->pooch>=1.5->mne->mne-connectivity) (2.0.12)\n",
            "Requirement already satisfied: idna<4,>=2.5 in /usr/local/lib/python3.10/dist-packages (from requests>=2.19.0->pooch>=1.5->mne->mne-connectivity) (3.4)\n"
          ]
        }
      ]
    },
    {
      "cell_type": "code",
      "source": [
        "import matplotlib\n",
        "import pathlib\n",
        "import mne\n",
        "import pandas as pd\n",
        "import numpy as np \n",
        "from autoreject  import AutoReject\n",
        "ar = AutoReject()\n",
        "from mne_connectivity import spectral_connectivity_time\n",
        "\n"
      ],
      "metadata": {
        "id": "ZuWTNx7jyDtS"
      },
      "execution_count": 279,
      "outputs": []
    },
    {
      "cell_type": "code",
      "source": [
        "#main_folder = pathlib.Path().cwd()\n",
        "\n",
        "#input_folder = pathlib.Path('D:/eeg_connectivity') \n",
        "#output_folder = pathlib.Path('D:/eeg_connectivity/output')\n",
        "\n",
        "\n",
        "\n",
        "#files = [file for file in input_folder.iterdir() if file.suffix == '.fif']\n",
        "\n",
        "#files = 'D:/eeg_connectivity/VatEvgDoICA.set'\n"
      ],
      "metadata": {
        "id": "Qb9RQxjau8Vp"
      },
      "execution_count": null,
      "outputs": []
    },
    {
      "cell_type": "code",
      "source": [
        "from google.colab import drive\n",
        "drive.mount('/content/gdrive')\n",
        "     \n",
        "\n",
        "# path to file in google drive\n",
        "\n",
        "file_path = \"/content/gdrive/My Drive/Colab Notebooks/VatEvgDoICA.set\"\n",
        "     "
      ],
      "metadata": {
        "id": "jvAAD1bLA8mx",
        "outputId": "29e579a3-6150-4150-f4d2-eac1c1d1dd89",
        "colab": {
          "base_uri": "https://localhost:8080/"
        }
      },
      "execution_count": 3,
      "outputs": [
        {
          "output_type": "stream",
          "name": "stdout",
          "text": [
            "Mounted at /content/gdrive\n"
          ]
        }
      ]
    },
    {
      "cell_type": "code",
      "source": [
        "input_file = '/content/gdrive/My Drive/Colab Notebooks/VatEvgDoICA.set'\n",
        "output_file = '/content/gdrive/My Drive/Colab Notebooks/VatEvgDoICA.fif'\n",
        "\n",
        "# Read the EEG data from the input file\n",
        "raw = mne.io.read_raw_eeglab(input_file, preload=True)\n",
        "\n",
        "# Save the EEG data to the output file in FIF format\n",
        "raw.save(output_file, overwrite=True)"
      ],
      "metadata": {
        "id": "8wjgWbxOBVwq",
        "outputId": "dd03b8d1-b231-4a5c-9a09-288ac17550de",
        "colab": {
          "base_uri": "https://localhost:8080/"
        }
      },
      "execution_count": 4,
      "outputs": [
        {
          "output_type": "stream",
          "name": "stdout",
          "text": [
            "Reading /content/gdrive/My Drive/Colab Notebooks/VatEvgDoICA.fdt\n",
            "Reading 0 ... 61924  =      0.000 ...   241.891 secs...\n",
            "Overwriting existing file.\n",
            "Writing /content/gdrive/My Drive/Colab Notebooks/VatEvgDoICA.fif\n"
          ]
        },
        {
          "output_type": "stream",
          "name": "stderr",
          "text": [
            "<ipython-input-4-664dc7b7bada>:5: RuntimeWarning: Limited 1 annotation(s) that were expanding outside the data range.\n",
            "  raw = mne.io.read_raw_eeglab(input_file, preload=True)\n",
            "<ipython-input-4-664dc7b7bada>:5: RuntimeWarning: The data contains 'boundary' events, indicating data discontinuities. Be cautious of filtering and epoching around these events.\n",
            "  raw = mne.io.read_raw_eeglab(input_file, preload=True)\n",
            "<ipython-input-4-664dc7b7bada>:8: RuntimeWarning: This filename (/content/gdrive/My Drive/Colab Notebooks/VatEvgDoICA.fif) does not conform to MNE naming conventions. All raw files should end with raw.fif, raw_sss.fif, raw_tsss.fif, _meg.fif, _eeg.fif, _ieeg.fif, raw.fif.gz, raw_sss.fif.gz, raw_tsss.fif.gz, _meg.fif.gz, _eeg.fif.gz or _ieeg.fif.gz\n",
            "  raw.save(output_file, overwrite=True)\n"
          ]
        },
        {
          "output_type": "stream",
          "name": "stdout",
          "text": [
            "Closing /content/gdrive/My Drive/Colab Notebooks/VatEvgDoICA.fif\n",
            "[done]\n"
          ]
        }
      ]
    },
    {
      "cell_type": "code",
      "source": [
        "file = '/content/gdrive/My Drive/Colab Notebooks/VatEvgDoICA.fif'"
      ],
      "metadata": {
        "id": "ZcbpHY82Tfdx"
      },
      "execution_count": 11,
      "outputs": []
    },
    {
      "cell_type": "markdown",
      "source": [
        "# Convert .ced to .csv "
      ],
      "metadata": {
        "id": "z1UqgJd9IZA5"
      }
    },
    {
      "cell_type": "code",
      "source": [
        "import csv\n",
        "import re\n",
        "\n",
        "def convert_ced_to_csv(ced_file, csv_file):\n",
        "    # Open the .ced file for reading\n",
        "    with open(ced_file, 'r') as ced:\n",
        "        # Create a CSV writer object\n",
        "        csv_writer = csv.writer(csv_file)\n",
        "        \n",
        "        # Write the header row\n",
        "        csv_writer.writerow([\"Electrode Label\", \"X\", \"Y\", \"Z\"])\n",
        "        \n",
        "        # Read the .ced file line by line\n",
        "        for line in ced:\n",
        "            # Parse the electrode label and coordinates from each line\n",
        "            match = re.match(r'(\\w+)\\s+([\\d.-]+)\\s+([\\d.-]+)\\s+([\\d.-]+)', line)\n",
        "            if match:\n",
        "                electrode_label = match.group(1)\n",
        "                x_coord = match.group(2)\n",
        "                y_coord = match.group(3)\n",
        "                z_coord = match.group(4)\n",
        "                \n",
        "                # Write the electrode information as a row in the CSV file\n",
        "                csv_writer.writerow([electrode_label, x_coord, y_coord, z_coord])\n",
        "\n",
        "# Example usage: Convert example.ced to example.csv\n",
        "ced_file = '/content/gdrive/My Drive/Colab Notebooks/Channels.ced'\n",
        "csv_file = '/content/gdrive/My Drive/Colab Notebooks/Channels.csv'\n",
        "\n",
        "with open(csv_file, 'w', newline='') as output_csv:\n",
        "    convert_ced_to_csv(ced_file, output_csv)"
      ],
      "metadata": {
        "id": "emEh_E7jH6Sq"
      },
      "execution_count": 5,
      "outputs": []
    },
    {
      "cell_type": "code",
      "source": [
        "montage = mne.channels.read_custom_montage(\"/content/gdrive/My Drive/Colab Notebooks/Channels.csv\")"
      ],
      "metadata": {
        "id": "p5Kd5BTdI8tg"
      },
      "execution_count": 6,
      "outputs": []
    },
    {
      "cell_type": "code",
      "source": [
        "epochs_duration = 3.\n",
        "epochs_overlap = 0.5\n",
        "\n",
        "con_methods = ['wpli']\n",
        "#, 'imcoh', 'ciplv', 'ppc', 'coh' \n",
        "con_freqs = ['4-30','4-8','8-13','13-20', '20-30', '8-10', '10-13']"
      ],
      "metadata": {
        "id": "D6No602QHm_P"
      },
      "execution_count": 8,
      "outputs": []
    },
    {
      "cell_type": "code",
      "source": [
        "freqs_min = [int(x.split('-')[0]) for x in con_freqs]\n",
        "freqs_max = [int(x.split('-')[1]) for x in con_freqs]\n",
        "\n",
        "def epoching(raw, duration, overlap):\n",
        "  tmin = 0\n",
        "  tmax = duration\n",
        "  duration = duration - overlap\n",
        "  events=mne.make_fixed_length_events(raw, id=1,duration=duration) \n",
        "  picks = mne.pick_types( raw.info , meg=False, eeg=True, eog=False) \n",
        "  epochs = mne.Epochs(raw, events=events, tmin=tmin, baseline = (0, 0), \n",
        "                      tmax=tmax, picks=picks, reject_by_annotation=True)\n",
        "  epochs.drop_bad() \n",
        "  return epochs\n"
      ],
      "metadata": {
        "id": "BYfzfKeULcGh"
      },
      "execution_count": 96,
      "outputs": []
    },
    {
      "cell_type": "code",
      "source": [
        "def calculate_conn(ts, con_methods, sfreq, freqs_min, freqs_max, node_names, person, output_folder): \n",
        "  for con_method in con_methods: \n",
        "    con, freqs, times, n_epochs, n_tapers = mne.connectivity.spectral_connectivity(ts, method=con_methods, mode='multitaper', sfreq=sfreq, \n",
        "                                                                                   fmin=freqs_min, fmax=freqs_max,\n",
        "                                                                         faverage=True, mt_adaptive=False, n_jobs=1)\n",
        "    sen_or_sour = 'sensors' if 'Fz' in node_names else 'sources'\n",
        "\n",
        "    for shp in range(0, con.shape[2]): \n",
        "      output_filename = f'{output_folder}/{person}_{epochs_duration}-sec_{sen_or_sour}_{con_method}_{con_freqs[shp]}.csv' \n",
        "      savefile = pd.DataFrame(np.array(con[:, :, shp])) \n",
        "      savefile.columns = savefile.index = node_names\n",
        "\n",
        "      savefile.to_csv(output_filename)"
      ],
      "metadata": {
        "id": "d04JFzZW7aNv"
      },
      "execution_count": 268,
      "outputs": []
    },
    {
      "cell_type": "code",
      "source": [
        "###############\n",
        "\n",
        "\n",
        "\n",
        "\n",
        "\n"
      ],
      "metadata": {
        "id": "NvdrnVZYGvgU"
      },
      "execution_count": 173,
      "outputs": []
    },
    {
      "cell_type": "code",
      "source": [
        "raw = mne.io.read_raw_fif(file, preload=True)"
      ],
      "metadata": {
        "id": "osvBqMVRRQGk",
        "outputId": "f4b64e89-4a21-42d6-ff74-84b1face6b38",
        "colab": {
          "base_uri": "https://localhost:8080/"
        }
      },
      "execution_count": 33,
      "outputs": [
        {
          "output_type": "stream",
          "name": "stdout",
          "text": [
            "Opening raw data file /content/gdrive/My Drive/Colab Notebooks/VatEvgDoICA.fif...\n",
            "    Range : 0 ... 61924 =      0.000 ...   241.891 secs\n",
            "Ready.\n",
            "Reading 0 ... 61924  =      0.000 ...   241.891 secs...\n"
          ]
        },
        {
          "output_type": "stream",
          "name": "stderr",
          "text": [
            "<ipython-input-33-8f81574964f6>:1: RuntimeWarning: This filename (/content/gdrive/My Drive/Colab Notebooks/VatEvgDoICA.fif) does not conform to MNE naming conventions. All raw files should end with raw.fif, raw_sss.fif, raw_tsss.fif, _meg.fif, _eeg.fif, _ieeg.fif, raw.fif.gz, raw_sss.fif.gz, raw_tsss.fif.gz, _meg.fif.gz, _eeg.fif.gz or _ieeg.fif.gz\n",
            "  raw = mne.io.read_raw_fif(file, preload=True)\n"
          ]
        }
      ]
    },
    {
      "cell_type": "code",
      "source": [
        "epochs = epoching(raw,4.,0.5)\n"
      ],
      "metadata": {
        "id": "Ef6Go38cVSCM",
        "outputId": "03953f96-7865-42c2-f1b2-c8af3ccaa33e",
        "colab": {
          "base_uri": "https://localhost:8080/"
        }
      },
      "execution_count": 34,
      "outputs": [
        {
          "output_type": "stream",
          "name": "stdout",
          "text": [
            "Not setting metadata\n",
            "69 matching events found\n",
            "Applying baseline correction (mode: mean)\n",
            "0 projection items activated\n",
            "Using data from preloaded Raw for 69 events and 1025 original time points ...\n",
            "1 bad epochs dropped\n"
          ]
        }
      ]
    },
    {
      "cell_type": "code",
      "source": [
        "output_folder = pathlib.Path('/content/gdrive/My Drive/Colab Notebooks')"
      ],
      "metadata": {
        "id": "ncKIpr8qdflU"
      },
      "execution_count": 91,
      "outputs": []
    },
    {
      "cell_type": "code",
      "source": [
        "person = 'VatEvgDo_matrix'\n",
        "freqs = raw.info['sfreq'] / 2"
      ],
      "metadata": {
        "id": "lS9xffmdz3gr"
      },
      "execution_count": 303,
      "outputs": []
    },
    {
      "cell_type": "markdown",
      "source": [
        "NNNNNNNNNNNNNNNNNNNNNNNNNNNNNNNNNNNNNNNNNNNNNNNNNNNNNNNNNNNNNn"
      ],
      "metadata": {
        "id": "3z5FTjRRRV7J"
      }
    },
    {
      "cell_type": "code",
      "source": [
        "########################################################################3\n",
        "\n",
        "def calculate_conn(ts, con_methods, freqs_min, freqs_max, node_names, person, output_folder, freqs):\n",
        "    for con_method in con_methods:\n",
        "        con, freqs_out, times, n_epochs, n_tapers = spectral_connectivity_time(\n",
        "            ts, freqs, method=con_method, mode='multitaper', sfreq=sfreq,\n",
        "            fmin=freqs_min, fmax=freqs_max,\n",
        "            faverage=True, n_jobs=1\n",
        "        )\n",
        "        sen_or_sour = 'sensors' if 'Fz' in node_names else 'sources'\n",
        "\n",
        "        for shp in range(con.shape[2]):\n",
        "            output_filename = f'{output_folder}/{person}_epochs-duration_sec_{sen_or_sour}_{con_method}_{freqs_out[shp]}.csv'\n",
        "            savefile = pd.DataFrame(np.array(con[:, :, shp]), columns=node_names, index=node_names)\n",
        "\n",
        "            savefile.to_csv(output_filename)\n"
      ],
      "metadata": {
        "id": "A3mE_P_YRX81"
      },
      "execution_count": 307,
      "outputs": []
    },
    {
      "cell_type": "markdown",
      "source": [
        "NNNNNNNNNNNNNNNNNNNNNNNNNNNNNNNNNNNNNNNNNNNNNNNNNNNNNNNNNNNNNNNNNNNNNNNNNNNNN"
      ],
      "metadata": {
        "id": "h-uzWxUPRZ-_"
      }
    },
    {
      "cell_type": "code",
      "source": [],
      "metadata": {
        "id": "qi5HhdiWRVDy"
      },
      "execution_count": null,
      "outputs": []
    },
    {
      "cell_type": "code",
      "source": [
        "con_methods = ['wpli']\n",
        "con_freqs = ['4-30', '4-8', '8-13', '13-20', '20-30', '8-10', '10-13']\n",
        "freqs_min = [int(x.split('-')[0]) for x in con_freqs]\n",
        "freqs_max = [int(x.split('-')[1]) for x in con_freqs]\n",
        "sen_or_sour = 'sensors'\n",
        "\n",
        "def calculate_conn(data, con_methods, sfreq, freqs_min, freqs_max, node_names, person, output_folder):\n",
        "\n",
        "    for con_method in con_methods:\n",
        "        con = spectral_connectivity_epochs(data, method = con_methods,\n",
        "                                                                                       mode = 'multitaper',\n",
        "                                                                                       sfreq=sfreq, fmin=freqs_min,\n",
        "                                                                                       fmax = freqs_max, faverage = True,\n",
        "                                                                                       mt_adaptive = True, n_jobs = -1)\n",
        "        con = con.get_data(output='dense')\n",
        "    \n",
        "    for shp in range(0, con.shape[2]):\n",
        "        output_filename = f'{output_folder}/{person}_{sen_or_sour}_{con_method}.csv'\n",
        "        savefile = pd.DataFrame(np.array(con[:,:,shp]))\n",
        "        savefile.columns = savefile.index = node_names\n",
        "\n",
        "        savefile.to_csv(output_filename)\n",
        "\n",
        "epochs = epoching(raw, 6., 0.5) #type - numpy array\n",
        "person = 'man'\n",
        "calculate_conn(epochs, con_methods, epochs.info['sfreq'], freqs_min, freqs_max, epochs.info['ch_names'], person, output_folder)"
      ],
      "metadata": {
        "id": "7cKTQrf3yoMZ",
        "outputId": "9f09fc16-4e54-4e3c-bd55-d7cf7c6b3ce3",
        "colab": {
          "base_uri": "https://localhost:8080/"
        }
      },
      "execution_count": 310,
      "outputs": [
        {
          "output_type": "stream",
          "name": "stdout",
          "text": [
            "Not setting metadata\n",
            "43 matching events found\n",
            "Applying baseline correction (mode: mean)\n",
            "0 projection items activated\n",
            "Using data from preloaded Raw for 43 events and 1537 original time points ...\n",
            "0 bad epochs dropped\n",
            "Adding metadata with 3 columns\n",
            "Connectivity computation...\n",
            "only using indices for lower-triangular matrix\n",
            "    computing connectivity for 1596 connections\n",
            "    using t=0.000s..6.000s for estimation (1537 points)\n",
            "    computing connectivity for the bands:\n",
            "     band 1: 4.2Hz..30.0Hz (156 points)\n",
            "     band 2: 4.2Hz..8.0Hz (24 points)\n",
            "     band 3: 8.2Hz..13.0Hz (30 points)\n",
            "     band 4: 13.2Hz..20.0Hz (42 points)\n",
            "     band 5: 20.2Hz..30.0Hz (60 points)\n",
            "     band 6: 8.2Hz..10.0Hz (12 points)\n",
            "     band 7: 10.2Hz..13.0Hz (18 points)\n",
            "    connectivity scores will be averaged for each band\n",
            "    Using multitaper spectrum estimation with 7 DPSS windows\n",
            "    the following metrics will be computed: WPLI\n",
            "    computing connectivity for epochs 1..1\n"
          ]
        },
        {
          "output_type": "stream",
          "name": "stderr",
          "text": [
            "[Parallel(n_jobs=-1)]: Using backend LokyBackend with 2 concurrent workers.\n"
          ]
        },
        {
          "output_type": "stream",
          "name": "stdout",
          "text": [
            "    computing connectivity for epochs 2..2\n"
          ]
        },
        {
          "output_type": "stream",
          "name": "stderr",
          "text": [
            "[Parallel(n_jobs=-1)]: Done   1 out of   1 | elapsed:    4.7s finished\n",
            "[Parallel(n_jobs=-1)]: Using backend LokyBackend with 2 concurrent workers.\n"
          ]
        },
        {
          "output_type": "stream",
          "name": "stdout",
          "text": [
            "    computing connectivity for epochs 3..3\n"
          ]
        },
        {
          "output_type": "stream",
          "name": "stderr",
          "text": [
            "[Parallel(n_jobs=-1)]: Done   1 out of   1 | elapsed:    3.4s finished\n",
            "[Parallel(n_jobs=-1)]: Using backend LokyBackend with 2 concurrent workers.\n"
          ]
        },
        {
          "output_type": "stream",
          "name": "stdout",
          "text": [
            "    computing connectivity for epochs 4..4\n"
          ]
        },
        {
          "output_type": "stream",
          "name": "stderr",
          "text": [
            "[Parallel(n_jobs=-1)]: Done   1 out of   1 | elapsed:    0.4s finished\n",
            "[Parallel(n_jobs=-1)]: Using backend LokyBackend with 2 concurrent workers.\n"
          ]
        },
        {
          "output_type": "stream",
          "name": "stdout",
          "text": [
            "    computing connectivity for epochs 5..5\n"
          ]
        },
        {
          "output_type": "stream",
          "name": "stderr",
          "text": [
            "[Parallel(n_jobs=-1)]: Done   1 out of   1 | elapsed:    0.5s finished\n",
            "[Parallel(n_jobs=-1)]: Using backend LokyBackend with 2 concurrent workers.\n"
          ]
        },
        {
          "output_type": "stream",
          "name": "stdout",
          "text": [
            "    computing connectivity for epochs 6..6\n"
          ]
        },
        {
          "output_type": "stream",
          "name": "stderr",
          "text": [
            "[Parallel(n_jobs=-1)]: Done   1 out of   1 | elapsed:    0.4s finished\n",
            "[Parallel(n_jobs=-1)]: Using backend LokyBackend with 2 concurrent workers.\n"
          ]
        },
        {
          "output_type": "stream",
          "name": "stdout",
          "text": [
            "    computing connectivity for epochs 7..7\n"
          ]
        },
        {
          "output_type": "stream",
          "name": "stderr",
          "text": [
            "[Parallel(n_jobs=-1)]: Done   1 out of   1 | elapsed:    0.4s finished\n",
            "[Parallel(n_jobs=-1)]: Using backend LokyBackend with 2 concurrent workers.\n"
          ]
        },
        {
          "output_type": "stream",
          "name": "stdout",
          "text": [
            "    computing connectivity for epochs 8..8\n"
          ]
        },
        {
          "output_type": "stream",
          "name": "stderr",
          "text": [
            "[Parallel(n_jobs=-1)]: Done   1 out of   1 | elapsed:    0.5s finished\n",
            "[Parallel(n_jobs=-1)]: Using backend LokyBackend with 2 concurrent workers.\n"
          ]
        },
        {
          "output_type": "stream",
          "name": "stdout",
          "text": [
            "    computing connectivity for epochs 9..9\n"
          ]
        },
        {
          "output_type": "stream",
          "name": "stderr",
          "text": [
            "[Parallel(n_jobs=-1)]: Done   1 out of   1 | elapsed:    0.5s finished\n",
            "[Parallel(n_jobs=-1)]: Using backend LokyBackend with 2 concurrent workers.\n"
          ]
        },
        {
          "output_type": "stream",
          "name": "stdout",
          "text": [
            "    computing connectivity for epochs 10..10\n"
          ]
        },
        {
          "output_type": "stream",
          "name": "stderr",
          "text": [
            "[Parallel(n_jobs=-1)]: Done   1 out of   1 | elapsed:    1.0s finished\n",
            "[Parallel(n_jobs=-1)]: Using backend LokyBackend with 2 concurrent workers.\n"
          ]
        },
        {
          "output_type": "stream",
          "name": "stdout",
          "text": [
            "    computing connectivity for epochs 11..11\n"
          ]
        },
        {
          "output_type": "stream",
          "name": "stderr",
          "text": [
            "[Parallel(n_jobs=-1)]: Done   1 out of   1 | elapsed:    0.3s finished\n",
            "[Parallel(n_jobs=-1)]: Using backend LokyBackend with 2 concurrent workers.\n"
          ]
        },
        {
          "output_type": "stream",
          "name": "stdout",
          "text": [
            "    computing connectivity for epochs 12..12\n",
            "    computing connectivity for epochs 13..13\n"
          ]
        },
        {
          "output_type": "stream",
          "name": "stderr",
          "text": [
            "[Parallel(n_jobs=-1)]: Done   1 out of   1 | elapsed:    0.2s finished\n",
            "[Parallel(n_jobs=-1)]: Using backend LokyBackend with 2 concurrent workers.\n",
            "[Parallel(n_jobs=-1)]: Done   1 out of   1 | elapsed:    0.2s finished\n",
            "[Parallel(n_jobs=-1)]: Using backend LokyBackend with 2 concurrent workers.\n"
          ]
        },
        {
          "output_type": "stream",
          "name": "stdout",
          "text": [
            "    computing connectivity for epochs 14..14\n",
            "    computing connectivity for epochs 15..15\n"
          ]
        },
        {
          "output_type": "stream",
          "name": "stderr",
          "text": [
            "[Parallel(n_jobs=-1)]: Done   1 out of   1 | elapsed:    0.2s finished\n",
            "[Parallel(n_jobs=-1)]: Using backend LokyBackend with 2 concurrent workers.\n",
            "[Parallel(n_jobs=-1)]: Done   1 out of   1 | elapsed:    0.2s finished\n",
            "[Parallel(n_jobs=-1)]: Using backend LokyBackend with 2 concurrent workers.\n"
          ]
        },
        {
          "output_type": "stream",
          "name": "stdout",
          "text": [
            "    computing connectivity for epochs 16..16\n",
            "    computing connectivity for epochs 17..17\n"
          ]
        },
        {
          "output_type": "stream",
          "name": "stderr",
          "text": [
            "[Parallel(n_jobs=-1)]: Done   1 out of   1 | elapsed:    0.2s finished\n",
            "[Parallel(n_jobs=-1)]: Using backend LokyBackend with 2 concurrent workers.\n",
            "[Parallel(n_jobs=-1)]: Done   1 out of   1 | elapsed:    0.2s finished\n",
            "[Parallel(n_jobs=-1)]: Using backend LokyBackend with 2 concurrent workers.\n"
          ]
        },
        {
          "output_type": "stream",
          "name": "stdout",
          "text": [
            "    computing connectivity for epochs 18..18\n",
            "    computing connectivity for epochs 19..19\n"
          ]
        },
        {
          "output_type": "stream",
          "name": "stderr",
          "text": [
            "[Parallel(n_jobs=-1)]: Done   1 out of   1 | elapsed:    0.2s finished\n",
            "[Parallel(n_jobs=-1)]: Using backend LokyBackend with 2 concurrent workers.\n",
            "[Parallel(n_jobs=-1)]: Done   1 out of   1 | elapsed:    0.2s finished\n",
            "[Parallel(n_jobs=-1)]: Using backend LokyBackend with 2 concurrent workers.\n"
          ]
        },
        {
          "output_type": "stream",
          "name": "stdout",
          "text": [
            "    computing connectivity for epochs 20..20\n",
            "    computing connectivity for epochs 21..21\n"
          ]
        },
        {
          "output_type": "stream",
          "name": "stderr",
          "text": [
            "[Parallel(n_jobs=-1)]: Done   1 out of   1 | elapsed:    0.2s finished\n",
            "[Parallel(n_jobs=-1)]: Using backend LokyBackend with 2 concurrent workers.\n",
            "[Parallel(n_jobs=-1)]: Done   1 out of   1 | elapsed:    0.2s finished\n",
            "[Parallel(n_jobs=-1)]: Using backend LokyBackend with 2 concurrent workers.\n"
          ]
        },
        {
          "output_type": "stream",
          "name": "stdout",
          "text": [
            "    computing connectivity for epochs 22..22\n",
            "    computing connectivity for epochs 23..23\n"
          ]
        },
        {
          "output_type": "stream",
          "name": "stderr",
          "text": [
            "[Parallel(n_jobs=-1)]: Done   1 out of   1 | elapsed:    0.2s finished\n",
            "[Parallel(n_jobs=-1)]: Using backend LokyBackend with 2 concurrent workers.\n",
            "[Parallel(n_jobs=-1)]: Done   1 out of   1 | elapsed:    0.2s finished\n",
            "[Parallel(n_jobs=-1)]: Using backend LokyBackend with 2 concurrent workers.\n"
          ]
        },
        {
          "output_type": "stream",
          "name": "stdout",
          "text": [
            "    computing connectivity for epochs 24..24\n",
            "    computing connectivity for epochs 25..25\n"
          ]
        },
        {
          "output_type": "stream",
          "name": "stderr",
          "text": [
            "[Parallel(n_jobs=-1)]: Done   1 out of   1 | elapsed:    0.2s finished\n",
            "[Parallel(n_jobs=-1)]: Using backend LokyBackend with 2 concurrent workers.\n",
            "[Parallel(n_jobs=-1)]: Done   1 out of   1 | elapsed:    0.2s finished\n",
            "[Parallel(n_jobs=-1)]: Using backend LokyBackend with 2 concurrent workers.\n"
          ]
        },
        {
          "output_type": "stream",
          "name": "stdout",
          "text": [
            "    computing connectivity for epochs 26..26\n",
            "    computing connectivity for epochs 27..27\n"
          ]
        },
        {
          "output_type": "stream",
          "name": "stderr",
          "text": [
            "[Parallel(n_jobs=-1)]: Done   1 out of   1 | elapsed:    0.2s finished\n",
            "[Parallel(n_jobs=-1)]: Using backend LokyBackend with 2 concurrent workers.\n",
            "[Parallel(n_jobs=-1)]: Done   1 out of   1 | elapsed:    0.2s finished\n",
            "[Parallel(n_jobs=-1)]: Using backend LokyBackend with 2 concurrent workers.\n"
          ]
        },
        {
          "output_type": "stream",
          "name": "stdout",
          "text": [
            "    computing connectivity for epochs 28..28\n",
            "    computing connectivity for epochs 29..29\n"
          ]
        },
        {
          "output_type": "stream",
          "name": "stderr",
          "text": [
            "[Parallel(n_jobs=-1)]: Done   1 out of   1 | elapsed:    0.2s finished\n",
            "[Parallel(n_jobs=-1)]: Using backend LokyBackend with 2 concurrent workers.\n",
            "[Parallel(n_jobs=-1)]: Done   1 out of   1 | elapsed:    0.2s finished\n",
            "[Parallel(n_jobs=-1)]: Using backend LokyBackend with 2 concurrent workers.\n"
          ]
        },
        {
          "output_type": "stream",
          "name": "stdout",
          "text": [
            "    computing connectivity for epochs 30..30\n",
            "    computing connectivity for epochs 31..31\n"
          ]
        },
        {
          "output_type": "stream",
          "name": "stderr",
          "text": [
            "[Parallel(n_jobs=-1)]: Done   1 out of   1 | elapsed:    0.2s finished\n",
            "[Parallel(n_jobs=-1)]: Using backend LokyBackend with 2 concurrent workers.\n",
            "[Parallel(n_jobs=-1)]: Done   1 out of   1 | elapsed:    0.2s finished\n",
            "[Parallel(n_jobs=-1)]: Using backend LokyBackend with 2 concurrent workers.\n"
          ]
        },
        {
          "output_type": "stream",
          "name": "stdout",
          "text": [
            "    computing connectivity for epochs 32..32\n",
            "    computing connectivity for epochs 33..33\n"
          ]
        },
        {
          "output_type": "stream",
          "name": "stderr",
          "text": [
            "[Parallel(n_jobs=-1)]: Done   1 out of   1 | elapsed:    0.2s finished\n",
            "[Parallel(n_jobs=-1)]: Using backend LokyBackend with 2 concurrent workers.\n",
            "[Parallel(n_jobs=-1)]: Done   1 out of   1 | elapsed:    0.2s finished\n",
            "[Parallel(n_jobs=-1)]: Using backend LokyBackend with 2 concurrent workers.\n"
          ]
        },
        {
          "output_type": "stream",
          "name": "stdout",
          "text": [
            "    computing connectivity for epochs 34..34\n",
            "    computing connectivity for epochs 35..35\n"
          ]
        },
        {
          "output_type": "stream",
          "name": "stderr",
          "text": [
            "[Parallel(n_jobs=-1)]: Done   1 out of   1 | elapsed:    0.2s finished\n",
            "[Parallel(n_jobs=-1)]: Using backend LokyBackend with 2 concurrent workers.\n",
            "[Parallel(n_jobs=-1)]: Done   1 out of   1 | elapsed:    0.2s finished\n",
            "[Parallel(n_jobs=-1)]: Using backend LokyBackend with 2 concurrent workers.\n"
          ]
        },
        {
          "output_type": "stream",
          "name": "stdout",
          "text": [
            "    computing connectivity for epochs 36..36\n",
            "    computing connectivity for epochs 37..37\n"
          ]
        },
        {
          "output_type": "stream",
          "name": "stderr",
          "text": [
            "[Parallel(n_jobs=-1)]: Done   1 out of   1 | elapsed:    0.2s finished\n",
            "[Parallel(n_jobs=-1)]: Using backend LokyBackend with 2 concurrent workers.\n",
            "[Parallel(n_jobs=-1)]: Done   1 out of   1 | elapsed:    0.2s finished\n",
            "[Parallel(n_jobs=-1)]: Using backend LokyBackend with 2 concurrent workers.\n"
          ]
        },
        {
          "output_type": "stream",
          "name": "stdout",
          "text": [
            "    computing connectivity for epochs 38..38\n",
            "    computing connectivity for epochs 39..39\n"
          ]
        },
        {
          "output_type": "stream",
          "name": "stderr",
          "text": [
            "[Parallel(n_jobs=-1)]: Done   1 out of   1 | elapsed:    0.2s finished\n",
            "[Parallel(n_jobs=-1)]: Using backend LokyBackend with 2 concurrent workers.\n",
            "[Parallel(n_jobs=-1)]: Done   1 out of   1 | elapsed:    0.2s finished\n",
            "[Parallel(n_jobs=-1)]: Using backend LokyBackend with 2 concurrent workers.\n"
          ]
        },
        {
          "output_type": "stream",
          "name": "stdout",
          "text": [
            "    computing connectivity for epochs 40..40\n",
            "    computing connectivity for epochs 41..41\n"
          ]
        },
        {
          "output_type": "stream",
          "name": "stderr",
          "text": [
            "[Parallel(n_jobs=-1)]: Done   1 out of   1 | elapsed:    0.2s finished\n",
            "[Parallel(n_jobs=-1)]: Using backend LokyBackend with 2 concurrent workers.\n",
            "[Parallel(n_jobs=-1)]: Done   1 out of   1 | elapsed:    0.2s finished\n",
            "[Parallel(n_jobs=-1)]: Using backend LokyBackend with 2 concurrent workers.\n"
          ]
        },
        {
          "output_type": "stream",
          "name": "stdout",
          "text": [
            "    computing connectivity for epochs 42..42\n",
            "    computing connectivity for epochs 43..43\n"
          ]
        },
        {
          "output_type": "stream",
          "name": "stderr",
          "text": [
            "[Parallel(n_jobs=-1)]: Done   1 out of   1 | elapsed:    0.2s finished\n",
            "[Parallel(n_jobs=-1)]: Using backend LokyBackend with 2 concurrent workers.\n",
            "[Parallel(n_jobs=-1)]: Done   1 out of   1 | elapsed:    0.2s finished\n",
            "[Parallel(n_jobs=-1)]: Using backend LokyBackend with 2 concurrent workers.\n"
          ]
        },
        {
          "output_type": "stream",
          "name": "stdout",
          "text": [
            "    assembling connectivity matrix\n",
            "[Connectivity computation done]\n"
          ]
        },
        {
          "output_type": "stream",
          "name": "stderr",
          "text": [
            "[Parallel(n_jobs=-1)]: Done   1 out of   1 | elapsed:    0.2s finished\n"
          ]
        }
      ]
    },
    {
      "cell_type": "code",
      "source": [
        "calculate_conn(epochs, con_methods, freqs_min, freqs_max, epochs.info ['ch_names'], person, output_folder, freqs)\n"
      ],
      "metadata": {
        "id": "ojVhy4v1bZq3",
        "outputId": "67a84990-0dce-4b0c-c5d7-bc2b15c4b39b",
        "colab": {
          "base_uri": "https://localhost:8080/",
          "height": 415
        }
      },
      "execution_count": 308,
      "outputs": [
        {
          "output_type": "stream",
          "name": "stdout",
          "text": [
            "Using data from preloaded Raw for 68 events and 1025 original time points ...\n",
            "Replacing existing metadata with 3 columns\n",
            "Using data from preloaded Raw for 68 events and 1025 original time points ...\n"
          ]
        },
        {
          "output_type": "error",
          "ename": "KeyError",
          "evalue": "ignored",
          "traceback": [
            "\u001b[0;31m---------------------------------------------------------------------------\u001b[0m",
            "\u001b[0;31mKeyError\u001b[0m                                  Traceback (most recent call last)",
            "\u001b[0;32m<ipython-input-308-6afce8022038>\u001b[0m in \u001b[0;36m<cell line: 1>\u001b[0;34m()\u001b[0m\n\u001b[0;32m----> 1\u001b[0;31m \u001b[0mcalculate_conn\u001b[0m\u001b[0;34m(\u001b[0m\u001b[0mepochs\u001b[0m\u001b[0;34m,\u001b[0m \u001b[0mcon_methods\u001b[0m\u001b[0;34m,\u001b[0m \u001b[0mfreqs_min\u001b[0m\u001b[0;34m,\u001b[0m \u001b[0mfreqs_max\u001b[0m\u001b[0;34m,\u001b[0m \u001b[0mepochs\u001b[0m\u001b[0;34m.\u001b[0m\u001b[0minfo\u001b[0m \u001b[0;34m[\u001b[0m\u001b[0;34m'ch_names'\u001b[0m\u001b[0;34m]\u001b[0m\u001b[0;34m,\u001b[0m \u001b[0mperson\u001b[0m\u001b[0;34m,\u001b[0m \u001b[0moutput_folder\u001b[0m\u001b[0;34m,\u001b[0m \u001b[0mfreqs\u001b[0m\u001b[0;34m)\u001b[0m\u001b[0;34m\u001b[0m\u001b[0;34m\u001b[0m\u001b[0m\n\u001b[0m",
            "\u001b[0;32m<ipython-input-307-9ad51184986b>\u001b[0m in \u001b[0;36mcalculate_conn\u001b[0;34m(ts, con_methods, freqs_min, freqs_max, node_names, person, output_folder, freqs)\u001b[0m\n\u001b[1;32m      3\u001b[0m \u001b[0;32mdef\u001b[0m \u001b[0mcalculate_conn\u001b[0m\u001b[0;34m(\u001b[0m\u001b[0mts\u001b[0m\u001b[0;34m,\u001b[0m \u001b[0mcon_methods\u001b[0m\u001b[0;34m,\u001b[0m \u001b[0mfreqs_min\u001b[0m\u001b[0;34m,\u001b[0m \u001b[0mfreqs_max\u001b[0m\u001b[0;34m,\u001b[0m \u001b[0mnode_names\u001b[0m\u001b[0;34m,\u001b[0m \u001b[0mperson\u001b[0m\u001b[0;34m,\u001b[0m \u001b[0moutput_folder\u001b[0m\u001b[0;34m,\u001b[0m \u001b[0mfreqs\u001b[0m\u001b[0;34m)\u001b[0m\u001b[0;34m:\u001b[0m\u001b[0;34m\u001b[0m\u001b[0;34m\u001b[0m\u001b[0m\n\u001b[1;32m      4\u001b[0m     \u001b[0;32mfor\u001b[0m \u001b[0mcon_method\u001b[0m \u001b[0;32min\u001b[0m \u001b[0mcon_methods\u001b[0m\u001b[0;34m:\u001b[0m\u001b[0;34m\u001b[0m\u001b[0;34m\u001b[0m\u001b[0m\n\u001b[0;32m----> 5\u001b[0;31m         con, freqs_out, times, n_epochs, n_tapers = spectral_connectivity_time(\n\u001b[0m\u001b[1;32m      6\u001b[0m             \u001b[0mts\u001b[0m\u001b[0;34m,\u001b[0m \u001b[0mfreqs\u001b[0m\u001b[0;34m,\u001b[0m \u001b[0mmethod\u001b[0m\u001b[0;34m=\u001b[0m\u001b[0mcon_method\u001b[0m\u001b[0;34m,\u001b[0m \u001b[0mmode\u001b[0m\u001b[0;34m=\u001b[0m\u001b[0;34m'multitaper'\u001b[0m\u001b[0;34m,\u001b[0m \u001b[0msfreq\u001b[0m\u001b[0;34m=\u001b[0m\u001b[0msfreq\u001b[0m\u001b[0;34m,\u001b[0m\u001b[0;34m\u001b[0m\u001b[0;34m\u001b[0m\u001b[0m\n\u001b[1;32m      7\u001b[0m             \u001b[0mfmin\u001b[0m\u001b[0;34m=\u001b[0m\u001b[0mfreqs_min\u001b[0m\u001b[0;34m,\u001b[0m \u001b[0mfmax\u001b[0m\u001b[0;34m=\u001b[0m\u001b[0mfreqs_max\u001b[0m\u001b[0;34m,\u001b[0m\u001b[0;34m\u001b[0m\u001b[0;34m\u001b[0m\u001b[0m\n",
            "\u001b[0;32m<decorator-gen-745>\u001b[0m in \u001b[0;36mspectral_connectivity_time\u001b[0;34m(data, freqs, method, average, indices, sfreq, fmin, fmax, fskip, faverage, sm_times, sm_freqs, sm_kernel, padding, mode, mt_bandwidth, n_cycles, decim, n_jobs, verbose)\u001b[0m\n",
            "\u001b[0;32m/usr/local/lib/python3.10/dist-packages/mne_connectivity/spectral/time.py\u001b[0m in \u001b[0;36mspectral_connectivity_time\u001b[0;34m(data, freqs, method, average, indices, sfreq, fmin, fmax, fskip, faverage, sm_times, sm_freqs, sm_kernel, padding, mode, mt_bandwidth, n_cycles, decim, n_jobs, verbose)\u001b[0m\n\u001b[1;32m    342\u001b[0m     _f = xr.DataArray(np.arange(len(freqs)), dims=('freqs',),\n\u001b[1;32m    343\u001b[0m                       coords=(freqs,))\n\u001b[0;32m--> 344\u001b[0;31m     \u001b[0mfoi_s\u001b[0m \u001b[0;34m=\u001b[0m \u001b[0m_f\u001b[0m\u001b[0;34m.\u001b[0m\u001b[0msel\u001b[0m\u001b[0;34m(\u001b[0m\u001b[0mfreqs\u001b[0m\u001b[0;34m=\u001b[0m\u001b[0mfmin\u001b[0m\u001b[0;34m,\u001b[0m \u001b[0mmethod\u001b[0m\u001b[0;34m=\u001b[0m\u001b[0;34m'nearest'\u001b[0m\u001b[0;34m)\u001b[0m\u001b[0;34m.\u001b[0m\u001b[0mdata\u001b[0m\u001b[0;34m\u001b[0m\u001b[0;34m\u001b[0m\u001b[0m\n\u001b[0m\u001b[1;32m    345\u001b[0m     \u001b[0mfoi_e\u001b[0m \u001b[0;34m=\u001b[0m \u001b[0m_f\u001b[0m\u001b[0;34m.\u001b[0m\u001b[0msel\u001b[0m\u001b[0;34m(\u001b[0m\u001b[0mfreqs\u001b[0m\u001b[0;34m=\u001b[0m\u001b[0mfmax\u001b[0m\u001b[0;34m,\u001b[0m \u001b[0mmethod\u001b[0m\u001b[0;34m=\u001b[0m\u001b[0;34m'nearest'\u001b[0m\u001b[0;34m)\u001b[0m\u001b[0;34m.\u001b[0m\u001b[0mdata\u001b[0m\u001b[0;34m\u001b[0m\u001b[0;34m\u001b[0m\u001b[0m\n\u001b[1;32m    346\u001b[0m     \u001b[0mfoi_idx\u001b[0m \u001b[0;34m=\u001b[0m \u001b[0mnp\u001b[0m\u001b[0;34m.\u001b[0m\u001b[0mc_\u001b[0m\u001b[0;34m[\u001b[0m\u001b[0mfoi_s\u001b[0m\u001b[0;34m,\u001b[0m \u001b[0mfoi_e\u001b[0m\u001b[0;34m]\u001b[0m\u001b[0;34m\u001b[0m\u001b[0;34m\u001b[0m\u001b[0m\n",
            "\u001b[0;32m/usr/local/lib/python3.10/dist-packages/xarray/core/dataarray.py\u001b[0m in \u001b[0;36msel\u001b[0;34m(self, indexers, method, tolerance, drop, **indexers_kwargs)\u001b[0m\n\u001b[1;32m   1525\u001b[0m         \u001b[0mDimensions\u001b[0m \u001b[0mwithout\u001b[0m \u001b[0mcoordinates\u001b[0m\u001b[0;34m:\u001b[0m \u001b[0mpoints\u001b[0m\u001b[0;34m\u001b[0m\u001b[0;34m\u001b[0m\u001b[0m\n\u001b[1;32m   1526\u001b[0m         \"\"\"\n\u001b[0;32m-> 1527\u001b[0;31m         ds = self._to_temp_dataset().sel(\n\u001b[0m\u001b[1;32m   1528\u001b[0m             \u001b[0mindexers\u001b[0m\u001b[0;34m=\u001b[0m\u001b[0mindexers\u001b[0m\u001b[0;34m,\u001b[0m\u001b[0;34m\u001b[0m\u001b[0;34m\u001b[0m\u001b[0m\n\u001b[1;32m   1529\u001b[0m             \u001b[0mdrop\u001b[0m\u001b[0;34m=\u001b[0m\u001b[0mdrop\u001b[0m\u001b[0;34m,\u001b[0m\u001b[0;34m\u001b[0m\u001b[0;34m\u001b[0m\u001b[0m\n",
            "\u001b[0;32m/usr/local/lib/python3.10/dist-packages/xarray/core/dataset.py\u001b[0m in \u001b[0;36msel\u001b[0;34m(self, indexers, method, tolerance, drop, **indexers_kwargs)\u001b[0m\n\u001b[1;32m   2563\u001b[0m         \"\"\"\n\u001b[1;32m   2564\u001b[0m         \u001b[0mindexers\u001b[0m \u001b[0;34m=\u001b[0m \u001b[0meither_dict_or_kwargs\u001b[0m\u001b[0;34m(\u001b[0m\u001b[0mindexers\u001b[0m\u001b[0;34m,\u001b[0m \u001b[0mindexers_kwargs\u001b[0m\u001b[0;34m,\u001b[0m \u001b[0;34m\"sel\"\u001b[0m\u001b[0;34m)\u001b[0m\u001b[0;34m\u001b[0m\u001b[0;34m\u001b[0m\u001b[0m\n\u001b[0;32m-> 2565\u001b[0;31m         query_results = map_index_queries(\n\u001b[0m\u001b[1;32m   2566\u001b[0m             \u001b[0mself\u001b[0m\u001b[0;34m,\u001b[0m \u001b[0mindexers\u001b[0m\u001b[0;34m=\u001b[0m\u001b[0mindexers\u001b[0m\u001b[0;34m,\u001b[0m \u001b[0mmethod\u001b[0m\u001b[0;34m=\u001b[0m\u001b[0mmethod\u001b[0m\u001b[0;34m,\u001b[0m \u001b[0mtolerance\u001b[0m\u001b[0;34m=\u001b[0m\u001b[0mtolerance\u001b[0m\u001b[0;34m\u001b[0m\u001b[0;34m\u001b[0m\u001b[0m\n\u001b[1;32m   2567\u001b[0m         )\n",
            "\u001b[0;32m/usr/local/lib/python3.10/dist-packages/xarray/core/indexing.py\u001b[0m in \u001b[0;36mmap_index_queries\u001b[0;34m(obj, indexers, method, tolerance, **indexers_kwargs)\u001b[0m\n\u001b[1;32m    181\u001b[0m             \u001b[0mresults\u001b[0m\u001b[0;34m.\u001b[0m\u001b[0mappend\u001b[0m\u001b[0;34m(\u001b[0m\u001b[0mIndexSelResult\u001b[0m\u001b[0;34m(\u001b[0m\u001b[0mlabels\u001b[0m\u001b[0;34m)\u001b[0m\u001b[0;34m)\u001b[0m\u001b[0;34m\u001b[0m\u001b[0;34m\u001b[0m\u001b[0m\n\u001b[1;32m    182\u001b[0m         \u001b[0;32melse\u001b[0m\u001b[0;34m:\u001b[0m\u001b[0;34m\u001b[0m\u001b[0;34m\u001b[0m\u001b[0m\n\u001b[0;32m--> 183\u001b[0;31m             \u001b[0mresults\u001b[0m\u001b[0;34m.\u001b[0m\u001b[0mappend\u001b[0m\u001b[0;34m(\u001b[0m\u001b[0mindex\u001b[0m\u001b[0;34m.\u001b[0m\u001b[0msel\u001b[0m\u001b[0;34m(\u001b[0m\u001b[0mlabels\u001b[0m\u001b[0;34m,\u001b[0m \u001b[0;34m**\u001b[0m\u001b[0moptions\u001b[0m\u001b[0;34m)\u001b[0m\u001b[0;34m)\u001b[0m\u001b[0;34m\u001b[0m\u001b[0;34m\u001b[0m\u001b[0m\n\u001b[0m\u001b[1;32m    184\u001b[0m \u001b[0;34m\u001b[0m\u001b[0m\n\u001b[1;32m    185\u001b[0m     \u001b[0mmerged\u001b[0m \u001b[0;34m=\u001b[0m \u001b[0mmerge_sel_results\u001b[0m\u001b[0;34m(\u001b[0m\u001b[0mresults\u001b[0m\u001b[0;34m)\u001b[0m\u001b[0;34m\u001b[0m\u001b[0;34m\u001b[0m\u001b[0m\n",
            "\u001b[0;32m/usr/local/lib/python3.10/dist-packages/xarray/core/indexes.py\u001b[0m in \u001b[0;36msel\u001b[0;34m(self, labels, method, tolerance)\u001b[0m\n\u001b[1;32m    483\u001b[0m                 \u001b[0mindexer\u001b[0m \u001b[0;34m=\u001b[0m \u001b[0mget_indexer_nd\u001b[0m\u001b[0;34m(\u001b[0m\u001b[0mself\u001b[0m\u001b[0;34m.\u001b[0m\u001b[0mindex\u001b[0m\u001b[0;34m,\u001b[0m \u001b[0mlabel_array\u001b[0m\u001b[0;34m,\u001b[0m \u001b[0mmethod\u001b[0m\u001b[0;34m,\u001b[0m \u001b[0mtolerance\u001b[0m\u001b[0;34m)\u001b[0m\u001b[0;34m\u001b[0m\u001b[0;34m\u001b[0m\u001b[0m\n\u001b[1;32m    484\u001b[0m                 \u001b[0;32mif\u001b[0m \u001b[0mnp\u001b[0m\u001b[0;34m.\u001b[0m\u001b[0many\u001b[0m\u001b[0;34m(\u001b[0m\u001b[0mindexer\u001b[0m \u001b[0;34m<\u001b[0m \u001b[0;36m0\u001b[0m\u001b[0;34m)\u001b[0m\u001b[0;34m:\u001b[0m\u001b[0;34m\u001b[0m\u001b[0;34m\u001b[0m\u001b[0m\n\u001b[0;32m--> 485\u001b[0;31m                     \u001b[0;32mraise\u001b[0m \u001b[0mKeyError\u001b[0m\u001b[0;34m(\u001b[0m\u001b[0;34mf\"not all values found in index {coord_name!r}\"\u001b[0m\u001b[0;34m)\u001b[0m\u001b[0;34m\u001b[0m\u001b[0;34m\u001b[0m\u001b[0m\n\u001b[0m\u001b[1;32m    486\u001b[0m \u001b[0;34m\u001b[0m\u001b[0m\n\u001b[1;32m    487\u001b[0m             \u001b[0;31m# attach dimension names and/or coordinates to positional indexer\u001b[0m\u001b[0;34m\u001b[0m\u001b[0;34m\u001b[0m\u001b[0m\n",
            "\u001b[0;31mKeyError\u001b[0m: \"not all values found in index 'freqs'\""
          ]
        }
      ]
    }
  ]
}