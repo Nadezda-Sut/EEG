{
  "nbformat": 4,
  "nbformat_minor": 0,
  "metadata": {
    "colab": {
      "provenance": [],
      "authorship_tag": "ABX9TyPTg1+r3ubIGMQ3B8duhMiV",
      "include_colab_link": true
    },
    "kernelspec": {
      "name": "python3",
      "display_name": "Python 3"
    },
    "language_info": {
      "name": "python"
    }
  },
  "cells": [
    {
      "cell_type": "markdown",
      "metadata": {
        "id": "view-in-github",
        "colab_type": "text"
      },
      "source": [
        "<a href=\"https://colab.research.google.com/github/Nadezda-Sut/EEG/blob/main/MNE_Connectivity.ipynb\" target=\"_parent\"><img src=\"https://colab.research.google.com/assets/colab-badge.svg\" alt=\"Open In Colab\"/></a>"
      ]
    },
    {
      "cell_type": "code",
      "source": [
        "!pip install mne\n",
        "\n"
      ],
      "metadata": {
        "id": "6Z_UgAjg4tvF",
        "outputId": "fd62b94e-8ece-44d7-bf6f-8ca83e56e3bf",
        "colab": {
          "base_uri": "https://localhost:8080/"
        }
      },
      "execution_count": 35,
      "outputs": [
        {
          "output_type": "stream",
          "name": "stdout",
          "text": [
            "Looking in indexes: https://pypi.org/simple, https://us-python.pkg.dev/colab-wheels/public/simple/\n",
            "Requirement already satisfied: mne in /usr/local/lib/python3.10/dist-packages (1.3.0)\n",
            "Requirement already satisfied: numpy>=1.15.4 in /usr/local/lib/python3.10/dist-packages (from mne) (1.22.4)\n",
            "Requirement already satisfied: scipy>=1.1.0 in /usr/local/lib/python3.10/dist-packages (from mne) (1.10.1)\n",
            "Requirement already satisfied: matplotlib in /usr/local/lib/python3.10/dist-packages (from mne) (3.7.1)\n",
            "Requirement already satisfied: tqdm in /usr/local/lib/python3.10/dist-packages (from mne) (4.65.0)\n",
            "Requirement already satisfied: pooch>=1.5 in /usr/local/lib/python3.10/dist-packages (from mne) (1.6.0)\n",
            "Requirement already satisfied: decorator in /usr/local/lib/python3.10/dist-packages (from mne) (4.4.2)\n",
            "Requirement already satisfied: packaging in /usr/local/lib/python3.10/dist-packages (from mne) (23.1)\n",
            "Requirement already satisfied: jinja2 in /usr/local/lib/python3.10/dist-packages (from mne) (3.1.2)\n",
            "Requirement already satisfied: appdirs>=1.3.0 in /usr/local/lib/python3.10/dist-packages (from pooch>=1.5->mne) (1.4.4)\n",
            "Requirement already satisfied: requests>=2.19.0 in /usr/local/lib/python3.10/dist-packages (from pooch>=1.5->mne) (2.27.1)\n",
            "Requirement already satisfied: MarkupSafe>=2.0 in /usr/local/lib/python3.10/dist-packages (from jinja2->mne) (2.1.2)\n",
            "Requirement already satisfied: contourpy>=1.0.1 in /usr/local/lib/python3.10/dist-packages (from matplotlib->mne) (1.0.7)\n",
            "Requirement already satisfied: cycler>=0.10 in /usr/local/lib/python3.10/dist-packages (from matplotlib->mne) (0.11.0)\n",
            "Requirement already satisfied: fonttools>=4.22.0 in /usr/local/lib/python3.10/dist-packages (from matplotlib->mne) (4.39.3)\n",
            "Requirement already satisfied: kiwisolver>=1.0.1 in /usr/local/lib/python3.10/dist-packages (from matplotlib->mne) (1.4.4)\n",
            "Requirement already satisfied: pillow>=6.2.0 in /usr/local/lib/python3.10/dist-packages (from matplotlib->mne) (8.4.0)\n",
            "Requirement already satisfied: pyparsing>=2.3.1 in /usr/local/lib/python3.10/dist-packages (from matplotlib->mne) (3.0.9)\n",
            "Requirement already satisfied: python-dateutil>=2.7 in /usr/local/lib/python3.10/dist-packages (from matplotlib->mne) (2.8.2)\n",
            "Requirement already satisfied: six>=1.5 in /usr/local/lib/python3.10/dist-packages (from python-dateutil>=2.7->matplotlib->mne) (1.16.0)\n",
            "Requirement already satisfied: urllib3<1.27,>=1.21.1 in /usr/local/lib/python3.10/dist-packages (from requests>=2.19.0->pooch>=1.5->mne) (1.26.15)\n",
            "Requirement already satisfied: certifi>=2017.4.17 in /usr/local/lib/python3.10/dist-packages (from requests>=2.19.0->pooch>=1.5->mne) (2022.12.7)\n",
            "Requirement already satisfied: charset-normalizer~=2.0.0 in /usr/local/lib/python3.10/dist-packages (from requests>=2.19.0->pooch>=1.5->mne) (2.0.12)\n",
            "Requirement already satisfied: idna<4,>=2.5 in /usr/local/lib/python3.10/dist-packages (from requests>=2.19.0->pooch>=1.5->mne) (3.4)\n"
          ]
        }
      ]
    },
    {
      "cell_type": "code",
      "source": [
        "!pip install autoreject"
      ],
      "metadata": {
        "id": "s2NOE5cmUpVn",
        "outputId": "486cca61-434b-4a48-9a15-343964e488f8",
        "colab": {
          "base_uri": "https://localhost:8080/"
        }
      },
      "execution_count": 29,
      "outputs": [
        {
          "output_type": "stream",
          "name": "stdout",
          "text": [
            "Looking in indexes: https://pypi.org/simple, https://us-python.pkg.dev/colab-wheels/public/simple/\n",
            "Requirement already satisfied: autoreject in /usr/local/lib/python3.10/dist-packages (0.4.1)\n",
            "Requirement already satisfied: numpy>=1.20 in /usr/local/lib/python3.10/dist-packages (from autoreject) (1.22.4)\n",
            "Requirement already satisfied: scipy>=1.6 in /usr/local/lib/python3.10/dist-packages (from autoreject) (1.10.1)\n",
            "Requirement already satisfied: mne[hdf5]>=1.0 in /usr/local/lib/python3.10/dist-packages (from autoreject) (1.3.0)\n",
            "Requirement already satisfied: scikit-learn>=0.24 in /usr/local/lib/python3.10/dist-packages (from autoreject) (1.2.2)\n",
            "Requirement already satisfied: joblib in /usr/local/lib/python3.10/dist-packages (from autoreject) (1.2.0)\n",
            "Requirement already satisfied: matplotlib>=3.3 in /usr/local/lib/python3.10/dist-packages (from autoreject) (3.7.1)\n",
            "Requirement already satisfied: contourpy>=1.0.1 in /usr/local/lib/python3.10/dist-packages (from matplotlib>=3.3->autoreject) (1.0.7)\n",
            "Requirement already satisfied: cycler>=0.10 in /usr/local/lib/python3.10/dist-packages (from matplotlib>=3.3->autoreject) (0.11.0)\n",
            "Requirement already satisfied: fonttools>=4.22.0 in /usr/local/lib/python3.10/dist-packages (from matplotlib>=3.3->autoreject) (4.39.3)\n",
            "Requirement already satisfied: kiwisolver>=1.0.1 in /usr/local/lib/python3.10/dist-packages (from matplotlib>=3.3->autoreject) (1.4.4)\n",
            "Requirement already satisfied: packaging>=20.0 in /usr/local/lib/python3.10/dist-packages (from matplotlib>=3.3->autoreject) (23.1)\n",
            "Requirement already satisfied: pillow>=6.2.0 in /usr/local/lib/python3.10/dist-packages (from matplotlib>=3.3->autoreject) (8.4.0)\n",
            "Requirement already satisfied: pyparsing>=2.3.1 in /usr/local/lib/python3.10/dist-packages (from matplotlib>=3.3->autoreject) (3.0.9)\n",
            "Requirement already satisfied: python-dateutil>=2.7 in /usr/local/lib/python3.10/dist-packages (from matplotlib>=3.3->autoreject) (2.8.2)\n",
            "Requirement already satisfied: tqdm in /usr/local/lib/python3.10/dist-packages (from mne[hdf5]>=1.0->autoreject) (4.65.0)\n",
            "Requirement already satisfied: pooch>=1.5 in /usr/local/lib/python3.10/dist-packages (from mne[hdf5]>=1.0->autoreject) (1.6.0)\n",
            "Requirement already satisfied: decorator in /usr/local/lib/python3.10/dist-packages (from mne[hdf5]>=1.0->autoreject) (4.4.2)\n",
            "Requirement already satisfied: jinja2 in /usr/local/lib/python3.10/dist-packages (from mne[hdf5]>=1.0->autoreject) (3.1.2)\n",
            "Requirement already satisfied: h5io in /usr/local/lib/python3.10/dist-packages (from mne[hdf5]>=1.0->autoreject) (0.1.7)\n",
            "Requirement already satisfied: pymatreader in /usr/local/lib/python3.10/dist-packages (from mne[hdf5]>=1.0->autoreject) (0.0.30)\n",
            "Requirement already satisfied: threadpoolctl>=2.0.0 in /usr/local/lib/python3.10/dist-packages (from scikit-learn>=0.24->autoreject) (3.1.0)\n",
            "Requirement already satisfied: appdirs>=1.3.0 in /usr/local/lib/python3.10/dist-packages (from pooch>=1.5->mne[hdf5]>=1.0->autoreject) (1.4.4)\n",
            "Requirement already satisfied: requests>=2.19.0 in /usr/local/lib/python3.10/dist-packages (from pooch>=1.5->mne[hdf5]>=1.0->autoreject) (2.27.1)\n",
            "Requirement already satisfied: six>=1.5 in /usr/local/lib/python3.10/dist-packages (from python-dateutil>=2.7->matplotlib>=3.3->autoreject) (1.16.0)\n",
            "Requirement already satisfied: h5py in /usr/local/lib/python3.10/dist-packages (from h5io->mne[hdf5]>=1.0->autoreject) (3.8.0)\n",
            "Requirement already satisfied: MarkupSafe>=2.0 in /usr/local/lib/python3.10/dist-packages (from jinja2->mne[hdf5]>=1.0->autoreject) (2.1.2)\n",
            "Requirement already satisfied: xmltodict in /usr/local/lib/python3.10/dist-packages (from pymatreader->mne[hdf5]>=1.0->autoreject) (0.13.0)\n",
            "Requirement already satisfied: future in /usr/local/lib/python3.10/dist-packages (from pymatreader->mne[hdf5]>=1.0->autoreject) (0.18.3)\n",
            "Requirement already satisfied: urllib3<1.27,>=1.21.1 in /usr/local/lib/python3.10/dist-packages (from requests>=2.19.0->pooch>=1.5->mne[hdf5]>=1.0->autoreject) (1.26.15)\n",
            "Requirement already satisfied: certifi>=2017.4.17 in /usr/local/lib/python3.10/dist-packages (from requests>=2.19.0->pooch>=1.5->mne[hdf5]>=1.0->autoreject) (2022.12.7)\n",
            "Requirement already satisfied: charset-normalizer~=2.0.0 in /usr/local/lib/python3.10/dist-packages (from requests>=2.19.0->pooch>=1.5->mne[hdf5]>=1.0->autoreject) (2.0.12)\n",
            "Requirement already satisfied: idna<4,>=2.5 in /usr/local/lib/python3.10/dist-packages (from requests>=2.19.0->pooch>=1.5->mne[hdf5]>=1.0->autoreject) (3.4)\n"
          ]
        }
      ]
    },
    {
      "cell_type": "code",
      "source": [
        "\n",
        "!pip install -U mne-connectivity"
      ],
      "metadata": {
        "id": "C2K1Mv4NpGNW",
        "outputId": "ef7df594-9cf2-48fd-9fd9-7c281dd473b0",
        "colab": {
          "base_uri": "https://localhost:8080/"
        }
      },
      "execution_count": 37,
      "outputs": [
        {
          "output_type": "stream",
          "name": "stdout",
          "text": [
            "Looking in indexes: https://pypi.org/simple, https://us-python.pkg.dev/colab-wheels/public/simple/\n",
            "Requirement already satisfied: mne-connectivity in /usr/local/lib/python3.10/dist-packages (0.5.0)\n",
            "Requirement already satisfied: numpy in /usr/local/lib/python3.10/dist-packages (from mne-connectivity) (1.22.4)\n",
            "Requirement already satisfied: scipy in /usr/local/lib/python3.10/dist-packages (from mne-connectivity) (1.10.1)\n",
            "Requirement already satisfied: mne in /usr/local/lib/python3.10/dist-packages (from mne-connectivity) (1.3.0)\n",
            "Requirement already satisfied: xarray in /usr/local/lib/python3.10/dist-packages (from mne-connectivity) (2022.12.0)\n",
            "Requirement already satisfied: netCDF4 in /usr/local/lib/python3.10/dist-packages (from mne-connectivity) (1.6.3)\n",
            "Requirement already satisfied: pandas in /usr/local/lib/python3.10/dist-packages (from mne-connectivity) (1.5.3)\n",
            "Requirement already satisfied: tqdm in /usr/local/lib/python3.10/dist-packages (from mne-connectivity) (4.65.0)\n",
            "Requirement already satisfied: matplotlib in /usr/local/lib/python3.10/dist-packages (from mne->mne-connectivity) (3.7.1)\n",
            "Requirement already satisfied: pooch>=1.5 in /usr/local/lib/python3.10/dist-packages (from mne->mne-connectivity) (1.6.0)\n",
            "Requirement already satisfied: decorator in /usr/local/lib/python3.10/dist-packages (from mne->mne-connectivity) (4.4.2)\n",
            "Requirement already satisfied: packaging in /usr/local/lib/python3.10/dist-packages (from mne->mne-connectivity) (23.1)\n",
            "Requirement already satisfied: jinja2 in /usr/local/lib/python3.10/dist-packages (from mne->mne-connectivity) (3.1.2)\n",
            "Requirement already satisfied: cftime in /usr/local/lib/python3.10/dist-packages (from netCDF4->mne-connectivity) (1.6.2)\n",
            "Requirement already satisfied: python-dateutil>=2.8.1 in /usr/local/lib/python3.10/dist-packages (from pandas->mne-connectivity) (2.8.2)\n",
            "Requirement already satisfied: pytz>=2020.1 in /usr/local/lib/python3.10/dist-packages (from pandas->mne-connectivity) (2022.7.1)\n",
            "Requirement already satisfied: appdirs>=1.3.0 in /usr/local/lib/python3.10/dist-packages (from pooch>=1.5->mne->mne-connectivity) (1.4.4)\n",
            "Requirement already satisfied: requests>=2.19.0 in /usr/local/lib/python3.10/dist-packages (from pooch>=1.5->mne->mne-connectivity) (2.27.1)\n",
            "Requirement already satisfied: six>=1.5 in /usr/local/lib/python3.10/dist-packages (from python-dateutil>=2.8.1->pandas->mne-connectivity) (1.16.0)\n",
            "Requirement already satisfied: MarkupSafe>=2.0 in /usr/local/lib/python3.10/dist-packages (from jinja2->mne->mne-connectivity) (2.1.2)\n",
            "Requirement already satisfied: contourpy>=1.0.1 in /usr/local/lib/python3.10/dist-packages (from matplotlib->mne->mne-connectivity) (1.0.7)\n",
            "Requirement already satisfied: cycler>=0.10 in /usr/local/lib/python3.10/dist-packages (from matplotlib->mne->mne-connectivity) (0.11.0)\n",
            "Requirement already satisfied: fonttools>=4.22.0 in /usr/local/lib/python3.10/dist-packages (from matplotlib->mne->mne-connectivity) (4.39.3)\n",
            "Requirement already satisfied: kiwisolver>=1.0.1 in /usr/local/lib/python3.10/dist-packages (from matplotlib->mne->mne-connectivity) (1.4.4)\n",
            "Requirement already satisfied: pillow>=6.2.0 in /usr/local/lib/python3.10/dist-packages (from matplotlib->mne->mne-connectivity) (8.4.0)\n",
            "Requirement already satisfied: pyparsing>=2.3.1 in /usr/local/lib/python3.10/dist-packages (from matplotlib->mne->mne-connectivity) (3.0.9)\n",
            "Requirement already satisfied: urllib3<1.27,>=1.21.1 in /usr/local/lib/python3.10/dist-packages (from requests>=2.19.0->pooch>=1.5->mne->mne-connectivity) (1.26.15)\n",
            "Requirement already satisfied: certifi>=2017.4.17 in /usr/local/lib/python3.10/dist-packages (from requests>=2.19.0->pooch>=1.5->mne->mne-connectivity) (2022.12.7)\n",
            "Requirement already satisfied: charset-normalizer~=2.0.0 in /usr/local/lib/python3.10/dist-packages (from requests>=2.19.0->pooch>=1.5->mne->mne-connectivity) (2.0.12)\n",
            "Requirement already satisfied: idna<4,>=2.5 in /usr/local/lib/python3.10/dist-packages (from requests>=2.19.0->pooch>=1.5->mne->mne-connectivity) (3.4)\n"
          ]
        }
      ]
    },
    {
      "cell_type": "code",
      "source": [
        "import matplotlib\n",
        "import pathlib\n",
        "import mne\n",
        "import pandas as pd\n",
        "import numpy as np \n",
        "from autoreject  import AutoReject\n",
        "ar = AutoReject()\n",
        "from mne_connectivity import spectral_connectivity_epochs\n",
        "\n"
      ],
      "metadata": {
        "id": "ZuWTNx7jyDtS"
      },
      "execution_count": 38,
      "outputs": []
    },
    {
      "cell_type": "code",
      "source": [
        "#main_folder = pathlib.Path().cwd()\n",
        "\n",
        "#input_folder = pathlib.Path('D:/eeg_connectivity') \n",
        "#output_folder = pathlib.Path('D:/eeg_connectivity/output')\n",
        "\n",
        "\n",
        "\n",
        "#files = [file for file in input_folder.iterdir() if file.suffix == '.fif']\n",
        "\n",
        "#files = 'D:/eeg_connectivity/VatEvgDoICA.set'\n"
      ],
      "metadata": {
        "id": "Qb9RQxjau8Vp"
      },
      "execution_count": null,
      "outputs": []
    },
    {
      "cell_type": "code",
      "source": [
        "from google.colab import drive\n",
        "drive.mount('/content/gdrive')\n",
        "     \n",
        "\n",
        "# path to file in google drive\n",
        "\n",
        "file_path = \"/content/gdrive/My Drive/Colab Notebooks/VatEvgDoICA.set\"\n",
        "     "
      ],
      "metadata": {
        "id": "jvAAD1bLA8mx",
        "outputId": "01196116-543b-4564-b711-0806c5e95606",
        "colab": {
          "base_uri": "https://localhost:8080/"
        }
      },
      "execution_count": 5,
      "outputs": [
        {
          "output_type": "stream",
          "name": "stdout",
          "text": [
            "Mounted at /content/gdrive\n"
          ]
        }
      ]
    },
    {
      "cell_type": "code",
      "source": [
        "input_file = '/content/gdrive/My Drive/Colab Notebooks/VatEvgDoICA.set'\n",
        "output_file = '/content/gdrive/My Drive/Colab Notebooks/VatEvgDoICA.fif'\n",
        "\n",
        "# Read the EEG data from the input file\n",
        "raw = mne.io.read_raw_eeglab(input_file, preload=True)\n",
        "\n",
        "# Save the EEG data to the output file in FIF format\n",
        "raw.save(output_file, overwrite=True)"
      ],
      "metadata": {
        "id": "8wjgWbxOBVwq",
        "outputId": "b6696428-0fab-4f1a-8063-a84ce881e177",
        "colab": {
          "base_uri": "https://localhost:8080/"
        }
      },
      "execution_count": 8,
      "outputs": [
        {
          "output_type": "stream",
          "name": "stdout",
          "text": [
            "Reading /content/gdrive/My Drive/Colab Notebooks/VatEvgDoICA.fdt\n",
            "Reading 0 ... 61924  =      0.000 ...   241.891 secs...\n",
            "Writing /content/gdrive/My Drive/Colab Notebooks/VatEvgDoICA.fif\n",
            "Closing /content/gdrive/My Drive/Colab Notebooks/VatEvgDoICA.fif\n",
            "[done]\n"
          ]
        },
        {
          "output_type": "stream",
          "name": "stderr",
          "text": [
            "<ipython-input-8-664dc7b7bada>:5: RuntimeWarning: Limited 1 annotation(s) that were expanding outside the data range.\n",
            "  raw = mne.io.read_raw_eeglab(input_file, preload=True)\n",
            "<ipython-input-8-664dc7b7bada>:5: RuntimeWarning: The data contains 'boundary' events, indicating data discontinuities. Be cautious of filtering and epoching around these events.\n",
            "  raw = mne.io.read_raw_eeglab(input_file, preload=True)\n",
            "<ipython-input-8-664dc7b7bada>:8: RuntimeWarning: This filename (/content/gdrive/My Drive/Colab Notebooks/VatEvgDoICA.fif) does not conform to MNE naming conventions. All raw files should end with raw.fif, raw_sss.fif, raw_tsss.fif, _meg.fif, _eeg.fif, _ieeg.fif, raw.fif.gz, raw_sss.fif.gz, raw_tsss.fif.gz, _meg.fif.gz, _eeg.fif.gz or _ieeg.fif.gz\n",
            "  raw.save(output_file, overwrite=True)\n"
          ]
        }
      ]
    },
    {
      "cell_type": "code",
      "source": [
        "file = '/content/gdrive/My Drive/Colab Notebooks/VatEvgDoICA.fif'"
      ],
      "metadata": {
        "id": "ZcbpHY82Tfdx"
      },
      "execution_count": 16,
      "outputs": []
    },
    {
      "cell_type": "markdown",
      "source": [
        "# Convert .ced to .csv "
      ],
      "metadata": {
        "id": "z1UqgJd9IZA5"
      }
    },
    {
      "cell_type": "code",
      "source": [
        "import csv\n",
        "import re\n",
        "\n",
        "def convert_ced_to_csv(ced_file, csv_file):\n",
        "    # Open the .ced file for reading\n",
        "    with open(ced_file, 'r') as ced:\n",
        "        # Create a CSV writer object\n",
        "        csv_writer = csv.writer(csv_file)\n",
        "        \n",
        "        # Write the header row\n",
        "        csv_writer.writerow([\"Electrode Label\", \"X\", \"Y\", \"Z\"])\n",
        "        \n",
        "        # Read the .ced file line by line\n",
        "        for line in ced:\n",
        "            # Parse the electrode label and coordinates from each line\n",
        "            match = re.match(r'(\\w+)\\s+([\\d.-]+)\\s+([\\d.-]+)\\s+([\\d.-]+)', line)\n",
        "            if match:\n",
        "                electrode_label = match.group(1)\n",
        "                x_coord = match.group(2)\n",
        "                y_coord = match.group(3)\n",
        "                z_coord = match.group(4)\n",
        "                \n",
        "                # Write the electrode information as a row in the CSV file\n",
        "                csv_writer.writerow([electrode_label, x_coord, y_coord, z_coord])\n",
        "\n",
        "# Example usage: Convert example.ced to example.csv\n",
        "ced_file = '/content/gdrive/My Drive/Colab Notebooks/Channels.ced'\n",
        "csv_file = '/content/gdrive/My Drive/Colab Notebooks/Channels.csv'\n",
        "\n",
        "with open(csv_file, 'w', newline='') as output_csv:\n",
        "    convert_ced_to_csv(ced_file, output_csv)"
      ],
      "metadata": {
        "id": "emEh_E7jH6Sq"
      },
      "execution_count": 9,
      "outputs": []
    },
    {
      "cell_type": "code",
      "source": [
        "montage = mne.channels.read_custom_montage(\"/content/gdrive/My Drive/Colab Notebooks/Channels.csv\")"
      ],
      "metadata": {
        "id": "p5Kd5BTdI8tg"
      },
      "execution_count": 17,
      "outputs": []
    },
    {
      "cell_type": "code",
      "source": [
        "epochs_duration = 3.\n",
        "epochs_overlap = 0.5\n",
        "\n",
        "con_methods = ['wpli']\n",
        "#, 'imcoh', 'ciplv', 'ppc', 'coh' \n",
        "con_freqs = ['4-30','4-8','8-13','13-20', '20-30', '8-10', '10-13']"
      ],
      "metadata": {
        "id": "D6No602QHm_P"
      },
      "execution_count": 18,
      "outputs": []
    },
    {
      "cell_type": "code",
      "source": [
        "freqs_min = [int(x.split('-')[0]) for x in con_freqs]\n",
        "freqs_max = [int(x.split('-')[1]) for x in con_freqs]\n",
        "sen_or_sour = 'sensors'"
      ],
      "metadata": {
        "id": "jnvBpWntGRG4"
      },
      "execution_count": 19,
      "outputs": []
    },
    {
      "cell_type": "code",
      "source": [
        "def epoching(raw, duration, overlap):\n",
        "  tmin = 0\n",
        "  tmax = duration\n",
        "  duration = duration - overlap\n",
        "  events=mne.make_fixed_length_events(raw, id=1,duration=duration) \n",
        "  picks = mne.pick_types( raw.info , meg=False, eeg=True, eog=False) \n",
        "  epochs = mne.Epochs(raw, events=events, tmin=tmin, baseline = (0, 0), \n",
        "                      tmax=tmax, picks=picks, reject_by_annotation=True)\n",
        "  epochs.drop_bad() \n",
        "  return epochs\n"
      ],
      "metadata": {
        "id": "BYfzfKeULcGh"
      },
      "execution_count": 20,
      "outputs": []
    },
    {
      "cell_type": "code",
      "source": [
        "raw = mne.io.read_raw_fif(file, preload=True)"
      ],
      "metadata": {
        "id": "osvBqMVRRQGk",
        "outputId": "62ec6e89-3eff-4fac-f9dd-27841a86b21a",
        "colab": {
          "base_uri": "https://localhost:8080/"
        }
      },
      "execution_count": 22,
      "outputs": [
        {
          "output_type": "stream",
          "name": "stdout",
          "text": [
            "Opening raw data file /content/gdrive/My Drive/Colab Notebooks/VatEvgDoICA.fif...\n",
            "    Range : 0 ... 61924 =      0.000 ...   241.891 secs\n",
            "Ready.\n",
            "Reading 0 ... 61924  =      0.000 ...   241.891 secs...\n"
          ]
        },
        {
          "output_type": "stream",
          "name": "stderr",
          "text": [
            "<ipython-input-22-8f81574964f6>:1: RuntimeWarning: This filename (/content/gdrive/My Drive/Colab Notebooks/VatEvgDoICA.fif) does not conform to MNE naming conventions. All raw files should end with raw.fif, raw_sss.fif, raw_tsss.fif, _meg.fif, _eeg.fif, _ieeg.fif, raw.fif.gz, raw_sss.fif.gz, raw_tsss.fif.gz, _meg.fif.gz, _eeg.fif.gz or _ieeg.fif.gz\n",
            "  raw = mne.io.read_raw_fif(file, preload=True)\n"
          ]
        }
      ]
    },
    {
      "cell_type": "code",
      "source": [
        "epochs = epoching(raw,4.,0.5)\n"
      ],
      "metadata": {
        "id": "Ef6Go38cVSCM",
        "outputId": "c65dcbbb-9e11-46a7-ea1b-a72f336d63ba",
        "colab": {
          "base_uri": "https://localhost:8080/"
        }
      },
      "execution_count": 23,
      "outputs": [
        {
          "output_type": "stream",
          "name": "stdout",
          "text": [
            "Not setting metadata\n",
            "69 matching events found\n",
            "Applying baseline correction (mode: mean)\n",
            "0 projection items activated\n",
            "Using data from preloaded Raw for 69 events and 1025 original time points ...\n",
            "1 bad epochs dropped\n"
          ]
        }
      ]
    },
    {
      "cell_type": "code",
      "source": [
        "output_folder = pathlib.Path('/content/gdrive/My Drive/Colab Notebooks')"
      ],
      "metadata": {
        "id": "ncKIpr8qdflU"
      },
      "execution_count": 24,
      "outputs": []
    },
    {
      "cell_type": "code",
      "source": [
        "person = 'VatEvgDo_matrix'\n",
        "freqs = raw.info['sfreq'] "
      ],
      "metadata": {
        "id": "lS9xffmdz3gr"
      },
      "execution_count": 25,
      "outputs": []
    },
    {
      "cell_type": "code",
      "source": [
        "def calculate_conn(data, con_methods, sfreq, freqs_min, freqs_max, node_names, person, output_folder):\n",
        "\n",
        "    for con_method in con_methods:\n",
        "        con = spectral_connectivity_epochs(data, method = con_methods,\n",
        "                                                                                       mode = 'multitaper',\n",
        "                                                                                       sfreq=sfreq, fmin=freqs_min,\n",
        "                                                                                       fmax = freqs_max, faverage = True,\n",
        "                                                                                       mt_adaptive = True, n_jobs = -1)\n",
        "        con = con.get_data(output='dense')\n",
        "    \n",
        "    for shp in range(0, con.shape[2]):\n",
        "        output_filename = f'{output_folder}/{person}_{sen_or_sour}_{con_method}.csv'\n",
        "        savefile = pd.DataFrame(np.array(con[:,:,shp]))\n",
        "        savefile.columns = savefile.index = node_names\n",
        "\n",
        "        savefile.to_csv(output_filename)\n",
        "\n"
      ],
      "metadata": {
        "id": "7cKTQrf3yoMZ"
      },
      "execution_count": null,
      "outputs": []
    },
    {
      "cell_type": "code",
      "source": [
        "calculate_conn(epochs, con_methods, epochs.info['sfreq'], freqs_min, freqs_max, epochs.info['ch_names'], person, output_folder)"
      ],
      "metadata": {
        "id": "h6UzwOo1KHN8"
      },
      "execution_count": null,
      "outputs": []
    }
  ]
}